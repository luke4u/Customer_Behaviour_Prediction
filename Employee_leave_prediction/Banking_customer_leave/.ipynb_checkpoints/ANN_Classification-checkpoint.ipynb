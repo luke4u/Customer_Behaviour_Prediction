{
 "cells": [
  {
   "cell_type": "markdown",
   "metadata": {},
   "source": [
    "### 1. Import libraries"
   ]
  },
  {
   "cell_type": "code",
   "execution_count": 44,
   "metadata": {},
   "outputs": [],
   "source": [
    "import numpy as np\n",
    "import matplotlib.pyplot as plt\n",
    "import pandas as pd\n",
    "import seaborn as sns"
   ]
  },
  {
   "cell_type": "code",
   "execution_count": 33,
   "metadata": {},
   "outputs": [],
   "source": [
    "from sklearn.preprocessing import LabelEncoder, OneHotEncoder\n",
    "from sklearn.preprocessing import StandardScaler\n",
    "from sklearn.model_selection import train_test_split\n",
    "from sklearn.metrics import confusion_matrix"
   ]
  },
  {
   "cell_type": "code",
   "execution_count": 3,
   "metadata": {},
   "outputs": [
    {
     "name": "stderr",
     "output_type": "stream",
     "text": [
      "Using TensorFlow backend.\n"
     ]
    }
   ],
   "source": [
    "from keras.models import Sequential\n",
    "from keras.layers import Dense\n",
    "from keras.layers import Dropout"
   ]
  },
  {
   "cell_type": "markdown",
   "metadata": {},
   "source": [
    "### 2. Data processing"
   ]
  },
  {
   "cell_type": "markdown",
   "metadata": {},
   "source": [
    "### 2.1 Read in data"
   ]
  },
  {
   "cell_type": "code",
   "execution_count": 4,
   "metadata": {},
   "outputs": [],
   "source": [
    "dataset = pd.read_csv('Churn_Modelling.csv')"
   ]
  },
  {
   "cell_type": "code",
   "execution_count": 5,
   "metadata": {
    "scrolled": true
   },
   "outputs": [
    {
     "data": {
      "text/html": [
       "<div>\n",
       "<style scoped>\n",
       "    .dataframe tbody tr th:only-of-type {\n",
       "        vertical-align: middle;\n",
       "    }\n",
       "\n",
       "    .dataframe tbody tr th {\n",
       "        vertical-align: top;\n",
       "    }\n",
       "\n",
       "    .dataframe thead th {\n",
       "        text-align: right;\n",
       "    }\n",
       "</style>\n",
       "<table border=\"1\" class=\"dataframe\">\n",
       "  <thead>\n",
       "    <tr style=\"text-align: right;\">\n",
       "      <th></th>\n",
       "      <th>RowNumber</th>\n",
       "      <th>CustomerId</th>\n",
       "      <th>Surname</th>\n",
       "      <th>CreditScore</th>\n",
       "      <th>Geography</th>\n",
       "      <th>Gender</th>\n",
       "      <th>Age</th>\n",
       "      <th>Tenure</th>\n",
       "      <th>Balance</th>\n",
       "      <th>NumOfProducts</th>\n",
       "      <th>HasCrCard</th>\n",
       "      <th>IsActiveMember</th>\n",
       "      <th>EstimatedSalary</th>\n",
       "      <th>Exited</th>\n",
       "    </tr>\n",
       "  </thead>\n",
       "  <tbody>\n",
       "    <tr>\n",
       "      <th>0</th>\n",
       "      <td>1</td>\n",
       "      <td>15634602</td>\n",
       "      <td>Hargrave</td>\n",
       "      <td>619</td>\n",
       "      <td>France</td>\n",
       "      <td>Female</td>\n",
       "      <td>42</td>\n",
       "      <td>2</td>\n",
       "      <td>0.00</td>\n",
       "      <td>1</td>\n",
       "      <td>1</td>\n",
       "      <td>1</td>\n",
       "      <td>101348.88</td>\n",
       "      <td>1</td>\n",
       "    </tr>\n",
       "    <tr>\n",
       "      <th>1</th>\n",
       "      <td>2</td>\n",
       "      <td>15647311</td>\n",
       "      <td>Hill</td>\n",
       "      <td>608</td>\n",
       "      <td>Spain</td>\n",
       "      <td>Female</td>\n",
       "      <td>41</td>\n",
       "      <td>1</td>\n",
       "      <td>83807.86</td>\n",
       "      <td>1</td>\n",
       "      <td>0</td>\n",
       "      <td>1</td>\n",
       "      <td>112542.58</td>\n",
       "      <td>0</td>\n",
       "    </tr>\n",
       "    <tr>\n",
       "      <th>2</th>\n",
       "      <td>3</td>\n",
       "      <td>15619304</td>\n",
       "      <td>Onio</td>\n",
       "      <td>502</td>\n",
       "      <td>France</td>\n",
       "      <td>Female</td>\n",
       "      <td>42</td>\n",
       "      <td>8</td>\n",
       "      <td>159660.80</td>\n",
       "      <td>3</td>\n",
       "      <td>1</td>\n",
       "      <td>0</td>\n",
       "      <td>113931.57</td>\n",
       "      <td>1</td>\n",
       "    </tr>\n",
       "    <tr>\n",
       "      <th>3</th>\n",
       "      <td>4</td>\n",
       "      <td>15701354</td>\n",
       "      <td>Boni</td>\n",
       "      <td>699</td>\n",
       "      <td>France</td>\n",
       "      <td>Female</td>\n",
       "      <td>39</td>\n",
       "      <td>1</td>\n",
       "      <td>0.00</td>\n",
       "      <td>2</td>\n",
       "      <td>0</td>\n",
       "      <td>0</td>\n",
       "      <td>93826.63</td>\n",
       "      <td>0</td>\n",
       "    </tr>\n",
       "    <tr>\n",
       "      <th>4</th>\n",
       "      <td>5</td>\n",
       "      <td>15737888</td>\n",
       "      <td>Mitchell</td>\n",
       "      <td>850</td>\n",
       "      <td>Spain</td>\n",
       "      <td>Female</td>\n",
       "      <td>43</td>\n",
       "      <td>2</td>\n",
       "      <td>125510.82</td>\n",
       "      <td>1</td>\n",
       "      <td>1</td>\n",
       "      <td>1</td>\n",
       "      <td>79084.10</td>\n",
       "      <td>0</td>\n",
       "    </tr>\n",
       "  </tbody>\n",
       "</table>\n",
       "</div>"
      ],
      "text/plain": [
       "   RowNumber  CustomerId   Surname  CreditScore Geography  Gender  Age  \\\n",
       "0          1    15634602  Hargrave          619    France  Female   42   \n",
       "1          2    15647311      Hill          608     Spain  Female   41   \n",
       "2          3    15619304      Onio          502    France  Female   42   \n",
       "3          4    15701354      Boni          699    France  Female   39   \n",
       "4          5    15737888  Mitchell          850     Spain  Female   43   \n",
       "\n",
       "   Tenure    Balance  NumOfProducts  HasCrCard  IsActiveMember  \\\n",
       "0       2       0.00              1          1               1   \n",
       "1       1   83807.86              1          0               1   \n",
       "2       8  159660.80              3          1               0   \n",
       "3       1       0.00              2          0               0   \n",
       "4       2  125510.82              1          1               1   \n",
       "\n",
       "   EstimatedSalary  Exited  \n",
       "0        101348.88       1  \n",
       "1        112542.58       0  \n",
       "2        113931.57       1  \n",
       "3         93826.63       0  \n",
       "4         79084.10       0  "
      ]
     },
     "execution_count": 5,
     "metadata": {},
     "output_type": "execute_result"
    }
   ],
   "source": [
    "dataset.head()"
   ]
  },
  {
   "cell_type": "code",
   "execution_count": 6,
   "metadata": {},
   "outputs": [
    {
     "data": {
      "text/plain": [
       "Index(['RowNumber', 'CustomerId', 'Surname', 'CreditScore', 'Geography',\n",
       "       'Gender', 'Age', 'Tenure', 'Balance', 'NumOfProducts', 'HasCrCard',\n",
       "       'IsActiveMember', 'EstimatedSalary', 'Exited'],\n",
       "      dtype='object')"
      ]
     },
     "execution_count": 6,
     "metadata": {},
     "output_type": "execute_result"
    }
   ],
   "source": [
    "dataset.columns"
   ]
  },
  {
   "cell_type": "markdown",
   "metadata": {},
   "source": [
    "### 2.2 Feature selection: excluding columns of 'RowNumber', 'CustomerId', 'Surname'"
   ]
  },
  {
   "cell_type": "code",
   "execution_count": 7,
   "metadata": {},
   "outputs": [],
   "source": [
    "X = dataset.iloc[:, 3: 13].values"
   ]
  },
  {
   "cell_type": "code",
   "execution_count": 8,
   "metadata": {},
   "outputs": [
    {
     "data": {
      "text/plain": [
       "array([[619, 'France', 'Female', ..., 1, 1, 101348.88],\n",
       "       [608, 'Spain', 'Female', ..., 0, 1, 112542.58],\n",
       "       [502, 'France', 'Female', ..., 1, 0, 113931.57],\n",
       "       ...,\n",
       "       [709, 'France', 'Female', ..., 0, 1, 42085.58],\n",
       "       [772, 'Germany', 'Male', ..., 1, 0, 92888.52],\n",
       "       [792, 'France', 'Female', ..., 1, 0, 38190.78]], dtype=object)"
      ]
     },
     "execution_count": 8,
     "metadata": {},
     "output_type": "execute_result"
    }
   ],
   "source": [
    "X"
   ]
  },
  {
   "cell_type": "code",
   "execution_count": 9,
   "metadata": {},
   "outputs": [],
   "source": [
    "y = dataset.iloc[:, 13].values"
   ]
  },
  {
   "cell_type": "code",
   "execution_count": 10,
   "metadata": {},
   "outputs": [
    {
     "data": {
      "text/plain": [
       "array([1, 0, 1, ..., 1, 1, 0], dtype=int64)"
      ]
     },
     "execution_count": 10,
     "metadata": {},
     "output_type": "execute_result"
    }
   ],
   "source": [
    "y"
   ]
  },
  {
   "cell_type": "markdown",
   "metadata": {},
   "source": [
    "### 2.3 categorical encoding: column Geography and Gender"
   ]
  },
  {
   "cell_type": "code",
   "execution_count": 11,
   "metadata": {},
   "outputs": [
    {
     "data": {
      "text/plain": [
       "(10000, 1)"
      ]
     },
     "execution_count": 11,
     "metadata": {},
     "output_type": "execute_result"
    }
   ],
   "source": [
    "X[:, 1:2].shape"
   ]
  },
  {
   "cell_type": "code",
   "execution_count": 12,
   "metadata": {},
   "outputs": [],
   "source": [
    "#Label encoder for 'country', 1 is the index of 'country' col\n",
    "labelencoder_X_1 = LabelEncoder()\n",
    "X[:, 1] = labelencoder_X_1.fit_transform(X[:, 1])"
   ]
  },
  {
   "cell_type": "code",
   "execution_count": 13,
   "metadata": {},
   "outputs": [
    {
     "data": {
      "text/plain": [
       "array([[619, 0, 'Female', ..., 1, 1, 101348.88],\n",
       "       [608, 2, 'Female', ..., 0, 1, 112542.58],\n",
       "       [502, 0, 'Female', ..., 1, 0, 113931.57],\n",
       "       ...,\n",
       "       [709, 0, 'Female', ..., 0, 1, 42085.58],\n",
       "       [772, 1, 'Male', ..., 1, 0, 92888.52],\n",
       "       [792, 0, 'Female', ..., 1, 0, 38190.78]], dtype=object)"
      ]
     },
     "execution_count": 13,
     "metadata": {},
     "output_type": "execute_result"
    }
   ],
   "source": [
    "X"
   ]
  },
  {
   "cell_type": "code",
   "execution_count": 14,
   "metadata": {},
   "outputs": [],
   "source": [
    "#Label encoder for 'Gender'\n",
    "labelencoder_X_2 = LabelEncoder()\n",
    "X[:, 2] = labelencoder_X_2.fit_transform(X[:, 2])"
   ]
  },
  {
   "cell_type": "code",
   "execution_count": 15,
   "metadata": {},
   "outputs": [
    {
     "data": {
      "text/plain": [
       "array([[619, 0, 0, ..., 1, 1, 101348.88],\n",
       "       [608, 2, 0, ..., 0, 1, 112542.58],\n",
       "       [502, 0, 0, ..., 1, 0, 113931.57],\n",
       "       ...,\n",
       "       [709, 0, 0, ..., 0, 1, 42085.58],\n",
       "       [772, 1, 1, ..., 1, 0, 92888.52],\n",
       "       [792, 0, 0, ..., 1, 0, 38190.78]], dtype=object)"
      ]
     },
     "execution_count": 15,
     "metadata": {},
     "output_type": "execute_result"
    }
   ],
   "source": [
    "X"
   ]
  },
  {
   "cell_type": "code",
   "execution_count": 16,
   "metadata": {},
   "outputs": [
    {
     "data": {
      "text/plain": [
       "(10000, 10)"
      ]
     },
     "execution_count": 16,
     "metadata": {},
     "output_type": "execute_result"
    }
   ],
   "source": [
    "X.shape"
   ]
  },
  {
   "cell_type": "markdown",
   "metadata": {},
   "source": [
    "#### remove genography column"
   ]
  },
  {
   "cell_type": "code",
   "execution_count": 21,
   "metadata": {},
   "outputs": [
    {
     "data": {
      "text/plain": [
       "array([[619, 0, 42, ..., 1, 1, 101348.88],\n",
       "       [608, 0, 41, ..., 0, 1, 112542.58],\n",
       "       [502, 0, 42, ..., 1, 0, 113931.57],\n",
       "       ...,\n",
       "       [709, 0, 36, ..., 0, 1, 42085.58],\n",
       "       [772, 1, 42, ..., 1, 0, 92888.52],\n",
       "       [792, 0, 28, ..., 1, 0, 38190.78]], dtype=object)"
      ]
     },
     "execution_count": 21,
     "metadata": {},
     "output_type": "execute_result"
    }
   ],
   "source": [
    "X_temp = np.delete(X, 1, 1)\n",
    "X_temp"
   ]
  },
  {
   "cell_type": "markdown",
   "metadata": {},
   "source": [
    "### 2.4 One-hot encoding: column Geography "
   ]
  },
  {
   "cell_type": "code",
   "execution_count": 22,
   "metadata": {},
   "outputs": [],
   "source": [
    "#One-hot encoding 'country' col\n",
    "onehotencoder = OneHotEncoder()\n",
    "geography_array = onehotencoder.fit_transform(X[:, 1:2]).toarray()"
   ]
  },
  {
   "cell_type": "markdown",
   "metadata": {},
   "source": [
    "### 2.5 Avoid dummy data trap"
   ]
  },
  {
   "cell_type": "code",
   "execution_count": 23,
   "metadata": {},
   "outputs": [
    {
     "data": {
      "text/plain": [
       "array([[0., 0.],\n",
       "       [0., 1.],\n",
       "       [0., 0.],\n",
       "       ...,\n",
       "       [0., 0.],\n",
       "       [1., 0.],\n",
       "       [0., 0.]])"
      ]
     },
     "execution_count": 23,
     "metadata": {},
     "output_type": "execute_result"
    }
   ],
   "source": [
    "geography_array = geography_array[: , 1:3]\n",
    "geography_array"
   ]
  },
  {
   "cell_type": "code",
   "execution_count": 38,
   "metadata": {},
   "outputs": [
    {
     "data": {
      "text/plain": [
       "array([[0.0, 0.0, 619, ..., 1, 1, 101348.88],\n",
       "       [0.0, 1.0, 608, ..., 0, 1, 112542.58],\n",
       "       [0.0, 0.0, 502, ..., 1, 0, 113931.57],\n",
       "       ...,\n",
       "       [0.0, 0.0, 709, ..., 0, 1, 42085.58],\n",
       "       [1.0, 0.0, 772, ..., 1, 0, 92888.52],\n",
       "       [0.0, 0.0, 792, ..., 1, 0, 38190.78]], dtype=object)"
      ]
     },
     "execution_count": 38,
     "metadata": {},
     "output_type": "execute_result"
    }
   ],
   "source": [
    "X_final = np.concatenate( (geography_array, X_temp),  axis = 1)\n",
    "X_final"
   ]
  },
  {
   "cell_type": "markdown",
   "metadata": {},
   "source": [
    "### 2.6 Data split"
   ]
  },
  {
   "cell_type": "code",
   "execution_count": 26,
   "metadata": {},
   "outputs": [],
   "source": [
    "X_train, X_test, y_train, y_test = train_test_split(X_final, y, test_size = 0.2, random_state = 0)"
   ]
  },
  {
   "cell_type": "markdown",
   "metadata": {},
   "source": [
    "### 2.7 Feature scaling"
   ]
  },
  {
   "cell_type": "code",
   "execution_count": 27,
   "metadata": {},
   "outputs": [],
   "source": [
    "sc = StandardScaler()\n",
    "X_train = sc.fit_transform(X_train)\n",
    "X_test = sc.transform(X_test)"
   ]
  },
  {
   "cell_type": "markdown",
   "metadata": {},
   "source": [
    "### 3.Model building"
   ]
  },
  {
   "cell_type": "code",
   "execution_count": 29,
   "metadata": {},
   "outputs": [
    {
     "name": "stdout",
     "output_type": "stream",
     "text": [
      "WARNING:tensorflow:From C:\\Users\\kx764qe\\AppData\\Local\\Continuum\\anaconda3\\envs\\courses\\lib\\site-packages\\keras\\backend\\tensorflow_backend.py:74: The name tf.get_default_graph is deprecated. Please use tf.compat.v1.get_default_graph instead.\n",
      "\n",
      "WARNING:tensorflow:From C:\\Users\\kx764qe\\AppData\\Local\\Continuum\\anaconda3\\envs\\courses\\lib\\site-packages\\keras\\backend\\tensorflow_backend.py:517: The name tf.placeholder is deprecated. Please use tf.compat.v1.placeholder instead.\n",
      "\n",
      "WARNING:tensorflow:From C:\\Users\\kx764qe\\AppData\\Local\\Continuum\\anaconda3\\envs\\courses\\lib\\site-packages\\keras\\backend\\tensorflow_backend.py:4138: The name tf.random_uniform is deprecated. Please use tf.random.uniform instead.\n",
      "\n"
     ]
    },
    {
     "name": "stderr",
     "output_type": "stream",
     "text": [
      "C:\\Users\\kx764qe\\AppData\\Local\\Continuum\\anaconda3\\envs\\courses\\lib\\site-packages\\ipykernel_launcher.py:4: UserWarning: Update your `Dense` call to the Keras 2 API: `Dense(activation=\"relu\", input_dim=11, units=6, kernel_initializer=\"uniform\")`\n",
      "  after removing the cwd from sys.path.\n",
      "C:\\Users\\kx764qe\\AppData\\Local\\Continuum\\anaconda3\\envs\\courses\\lib\\site-packages\\ipykernel_launcher.py:8: UserWarning: Update your `Dense` call to the Keras 2 API: `Dense(activation=\"relu\", units=6, kernel_initializer=\"uniform\")`\n",
      "  \n",
      "C:\\Users\\kx764qe\\AppData\\Local\\Continuum\\anaconda3\\envs\\courses\\lib\\site-packages\\ipykernel_launcher.py:11: UserWarning: Update your `Dense` call to the Keras 2 API: `Dense(activation=\"sigmoid\", units=1, kernel_initializer=\"uniform\")`\n",
      "  # This is added back by InteractiveShellApp.init_path()\n"
     ]
    }
   ],
   "source": [
    "#initialize the nerual network\n",
    "classifier = Sequential()\n",
    "#add input layer and first hidden layer\n",
    "classifier.add(Dense(output_dim = 6, init = 'uniform', activation = 'relu', input_dim = 11))\n",
    "# #add dropout layer\n",
    "# classifier.add(Dropout(p =0.1))\n",
    "#add 2nd hidden layer\n",
    "classifier.add(Dense(output_dim = 6, init = 'uniform', activation = 'relu'))\n",
    "# classifier.add(Dropout(p =0.1))\n",
    "#add output layer\n",
    "classifier.add(Dense(output_dim = 1, init = 'uniform', activation = 'sigmoid'))"
   ]
  },
  {
   "cell_type": "code",
   "execution_count": 30,
   "metadata": {},
   "outputs": [
    {
     "name": "stdout",
     "output_type": "stream",
     "text": [
      "WARNING:tensorflow:From C:\\Users\\kx764qe\\AppData\\Local\\Continuum\\anaconda3\\envs\\courses\\lib\\site-packages\\keras\\optimizers.py:790: The name tf.train.Optimizer is deprecated. Please use tf.compat.v1.train.Optimizer instead.\n",
      "\n",
      "WARNING:tensorflow:From C:\\Users\\kx764qe\\AppData\\Local\\Continuum\\anaconda3\\envs\\courses\\lib\\site-packages\\keras\\backend\\tensorflow_backend.py:3376: The name tf.log is deprecated. Please use tf.math.log instead.\n",
      "\n",
      "WARNING:tensorflow:From C:\\Users\\kx764qe\\AppData\\Local\\Continuum\\anaconda3\\envs\\courses\\lib\\site-packages\\tensorflow\\python\\ops\\nn_impl.py:180: add_dispatch_support.<locals>.wrapper (from tensorflow.python.ops.array_ops) is deprecated and will be removed in a future version.\n",
      "Instructions for updating:\n",
      "Use tf.where in 2.0, which has the same broadcast rule as np.where\n"
     ]
    }
   ],
   "source": [
    "classifier.compile(optimizer = 'adam', loss ='binary_crossentropy', metrics = ['accuracy'])"
   ]
  },
  {
   "cell_type": "code",
   "execution_count": 31,
   "metadata": {
    "scrolled": true
   },
   "outputs": [
    {
     "name": "stdout",
     "output_type": "stream",
     "text": [
      "WARNING:tensorflow:From C:\\Users\\kx764qe\\AppData\\Local\\Continuum\\anaconda3\\envs\\courses\\lib\\site-packages\\keras\\backend\\tensorflow_backend.py:986: The name tf.assign_add is deprecated. Please use tf.compat.v1.assign_add instead.\n",
      "\n",
      "Epoch 1/100\n",
      "8000/8000 [==============================] - 1s 144us/step - loss: 0.4866 - acc: 0.7957\n",
      "Epoch 2/100\n",
      "8000/8000 [==============================] - 1s 152us/step - loss: 0.4236 - acc: 0.8084\n",
      "Epoch 3/100\n",
      "8000/8000 [==============================] - 1s 114us/step - loss: 0.4176 - acc: 0.8206\n",
      "Epoch 4/100\n",
      "8000/8000 [==============================] - ETA: 0s - loss: 0.4122 - acc: 0.819 - 1s 156us/step - loss: 0.4118 - acc: 0.8206\n",
      "Epoch 5/100\n",
      "8000/8000 [==============================] - 1s 144us/step - loss: 0.4072 - acc: 0.8212\n",
      "Epoch 6/100\n",
      "8000/8000 [==============================] - 1s 129us/step - loss: 0.4016 - acc: 0.8247\n",
      "Epoch 7/100\n",
      "8000/8000 [==============================] - 1s 121us/step - loss: 0.3902 - acc: 0.8342\n",
      "Epoch 8/100\n",
      "8000/8000 [==============================] - 1s 114us/step - loss: 0.3699 - acc: 0.8496\n",
      "Epoch 9/100\n",
      "8000/8000 [==============================] - 1s 143us/step - loss: 0.3545 - acc: 0.8542\n",
      "Epoch 10/100\n",
      "8000/8000 [==============================] - 1s 128us/step - loss: 0.3493 - acc: 0.8570\n",
      "Epoch 11/100\n",
      "8000/8000 [==============================] - 1s 135us/step - loss: 0.3464 - acc: 0.8569\n",
      "Epoch 12/100\n",
      "8000/8000 [==============================] - 1s 141us/step - loss: 0.3449 - acc: 0.8587\n",
      "Epoch 13/100\n",
      "8000/8000 [==============================] - 1s 147us/step - loss: 0.3444 - acc: 0.8602\n",
      "Epoch 14/100\n",
      "8000/8000 [==============================] - 1s 129us/step - loss: 0.3439 - acc: 0.8594\n",
      "Epoch 15/100\n",
      "8000/8000 [==============================] - 1s 128us/step - loss: 0.3430 - acc: 0.8592\n",
      "Epoch 16/100\n",
      "8000/8000 [==============================] - 1s 124us/step - loss: 0.3427 - acc: 0.8601\n",
      "Epoch 17/100\n",
      "8000/8000 [==============================] - 1s 149us/step - loss: 0.3424 - acc: 0.8595\n",
      "Epoch 18/100\n",
      "8000/8000 [==============================] - 1s 135us/step - loss: 0.3419 - acc: 0.8610\n",
      "Epoch 19/100\n",
      "8000/8000 [==============================] - 1s 155us/step - loss: 0.3410 - acc: 0.8620\n",
      "Epoch 20/100\n",
      "8000/8000 [==============================] - 1s 174us/step - loss: 0.3408 - acc: 0.8632\n",
      "Epoch 21/100\n",
      "8000/8000 [==============================] - 1s 175us/step - loss: 0.3408 - acc: 0.8596\n",
      "Epoch 22/100\n",
      "8000/8000 [==============================] - 1s 163us/step - loss: 0.3403 - acc: 0.8609\n",
      "Epoch 23/100\n",
      "8000/8000 [==============================] - 1s 157us/step - loss: 0.3402 - acc: 0.8610\n",
      "Epoch 24/100\n",
      "8000/8000 [==============================] - 1s 170us/step - loss: 0.3395 - acc: 0.8609\n",
      "Epoch 25/100\n",
      "8000/8000 [==============================] - 1s 157us/step - loss: 0.3388 - acc: 0.8605\n",
      "Epoch 26/100\n",
      "8000/8000 [==============================] - 1s 145us/step - loss: 0.3392 - acc: 0.8621\n",
      "Epoch 27/100\n",
      "8000/8000 [==============================] - 1s 147us/step - loss: 0.3384 - acc: 0.8619\n",
      "Epoch 28/100\n",
      "8000/8000 [==============================] - 1s 159us/step - loss: 0.3391 - acc: 0.8634\n",
      "Epoch 29/100\n",
      "8000/8000 [==============================] - 1s 176us/step - loss: 0.3382 - acc: 0.8617\n",
      "Epoch 30/100\n",
      "8000/8000 [==============================] - 1s 149us/step - loss: 0.3386 - acc: 0.8629\n",
      "Epoch 31/100\n",
      "8000/8000 [==============================] - 1s 155us/step - loss: 0.3382 - acc: 0.8617\n",
      "Epoch 32/100\n",
      "8000/8000 [==============================] - 1s 181us/step - loss: 0.3378 - acc: 0.8634\n",
      "Epoch 33/100\n",
      "8000/8000 [==============================] - 1s 187us/step - loss: 0.3375 - acc: 0.8609\n",
      "Epoch 34/100\n",
      "8000/8000 [==============================] - 1s 180us/step - loss: 0.3377 - acc: 0.8629\n",
      "Epoch 35/100\n",
      "8000/8000 [==============================] - 1s 131us/step - loss: 0.3373 - acc: 0.8624\n",
      "Epoch 36/100\n",
      "8000/8000 [==============================] - 1s 150us/step - loss: 0.3373 - acc: 0.8642\n",
      "Epoch 37/100\n",
      "8000/8000 [==============================] - 1s 154us/step - loss: 0.3369 - acc: 0.8636\n",
      "Epoch 38/100\n",
      "8000/8000 [==============================] - 1s 146us/step - loss: 0.3373 - acc: 0.8602\n",
      "Epoch 39/100\n",
      "8000/8000 [==============================] - 1s 145us/step - loss: 0.3374 - acc: 0.8621\n",
      "Epoch 40/100\n",
      "8000/8000 [==============================] - 1s 148us/step - loss: 0.3375 - acc: 0.8607\n",
      "Epoch 41/100\n",
      "8000/8000 [==============================] - 1s 154us/step - loss: 0.3363 - acc: 0.8626\n",
      "Epoch 42/100\n",
      "8000/8000 [==============================] - 1s 148us/step - loss: 0.3373 - acc: 0.8605\n",
      "Epoch 43/100\n",
      "8000/8000 [==============================] - 1s 150us/step - loss: 0.3369 - acc: 0.8616\n",
      "Epoch 44/100\n",
      "8000/8000 [==============================] - 1s 149us/step - loss: 0.3370 - acc: 0.8632\n",
      "Epoch 45/100\n",
      "8000/8000 [==============================] - 1s 160us/step - loss: 0.3364 - acc: 0.8620\n",
      "Epoch 46/100\n",
      "8000/8000 [==============================] - 1s 144us/step - loss: 0.3370 - acc: 0.8626\n",
      "Epoch 47/100\n",
      "8000/8000 [==============================] - 1s 148us/step - loss: 0.3372 - acc: 0.8634\n",
      "Epoch 48/100\n",
      "8000/8000 [==============================] - 1s 148us/step - loss: 0.3367 - acc: 0.8614\n",
      "Epoch 49/100\n",
      "8000/8000 [==============================] - 1s 162us/step - loss: 0.3370 - acc: 0.8632\n",
      "Epoch 50/100\n",
      "8000/8000 [==============================] - 1s 149us/step - loss: 0.3364 - acc: 0.8640\n",
      "Epoch 51/100\n",
      "8000/8000 [==============================] - 1s 144us/step - loss: 0.3368 - acc: 0.8624\n",
      "Epoch 52/100\n",
      "8000/8000 [==============================] - 1s 150us/step - loss: 0.3355 - acc: 0.8621\n",
      "Epoch 53/100\n",
      "8000/8000 [==============================] - 1s 160us/step - loss: 0.3366 - acc: 0.8620\n",
      "Epoch 54/100\n",
      "8000/8000 [==============================] - 1s 161us/step - loss: 0.3364 - acc: 0.8640\n",
      "Epoch 55/100\n",
      "8000/8000 [==============================] - 2s 195us/step - loss: 0.3351 - acc: 0.8627\n",
      "Epoch 56/100\n",
      "8000/8000 [==============================] - 1s 156us/step - loss: 0.3363 - acc: 0.8631\n",
      "Epoch 57/100\n",
      "8000/8000 [==============================] - 1s 161us/step - loss: 0.3361 - acc: 0.8622\n",
      "Epoch 58/100\n",
      "8000/8000 [==============================] - 1s 147us/step - loss: 0.3355 - acc: 0.8624\n",
      "Epoch 59/100\n",
      "8000/8000 [==============================] - 1s 159us/step - loss: 0.3362 - acc: 0.8614\n",
      "Epoch 60/100\n",
      "8000/8000 [==============================] - 1s 184us/step - loss: 0.3364 - acc: 0.8635\n",
      "Epoch 61/100\n",
      "8000/8000 [==============================] - 2s 200us/step - loss: 0.3360 - acc: 0.8636\n",
      "Epoch 62/100\n",
      "8000/8000 [==============================] - 1s 149us/step - loss: 0.3359 - acc: 0.8630\n",
      "Epoch 63/100\n",
      "8000/8000 [==============================] - 1s 150us/step - loss: 0.3357 - acc: 0.8644\n",
      "Epoch 64/100\n",
      "8000/8000 [==============================] - 1s 159us/step - loss: 0.3360 - acc: 0.8632\n",
      "Epoch 65/100\n",
      "8000/8000 [==============================] - 1s 153us/step - loss: 0.3352 - acc: 0.8635\n",
      "Epoch 66/100\n",
      "8000/8000 [==============================] - 1s 152us/step - loss: 0.3353 - acc: 0.8644\n",
      "Epoch 67/100\n",
      "8000/8000 [==============================] - 1s 149us/step - loss: 0.3360 - acc: 0.8645\n",
      "Epoch 68/100\n",
      "8000/8000 [==============================] - 1s 154us/step - loss: 0.3358 - acc: 0.8641\n",
      "Epoch 69/100\n",
      "8000/8000 [==============================] - 1s 170us/step - loss: 0.3356 - acc: 0.8644\n",
      "Epoch 70/100\n",
      "8000/8000 [==============================] - 1s 178us/step - loss: 0.3353 - acc: 0.8610\n",
      "Epoch 71/100\n",
      "8000/8000 [==============================] - 1s 162us/step - loss: 0.3358 - acc: 0.8621\n",
      "Epoch 72/100\n",
      "8000/8000 [==============================] - 2s 208us/step - loss: 0.3358 - acc: 0.8630\n",
      "Epoch 73/100\n",
      "8000/8000 [==============================] - 1s 172us/step - loss: 0.3356 - acc: 0.8626\n",
      "Epoch 74/100\n",
      "8000/8000 [==============================] - 1s 151us/step - loss: 0.3355 - acc: 0.8639\n",
      "Epoch 75/100\n",
      "8000/8000 [==============================] - 1s 160us/step - loss: 0.3351 - acc: 0.8649\n",
      "Epoch 76/100\n",
      "8000/8000 [==============================] - 1s 178us/step - loss: 0.3358 - acc: 0.8645\n",
      "Epoch 77/100\n",
      "8000/8000 [==============================] - 1s 149us/step - loss: 0.3361 - acc: 0.8647\n",
      "Epoch 78/100\n",
      "8000/8000 [==============================] - 1s 149us/step - loss: 0.3355 - acc: 0.8645\n",
      "Epoch 79/100\n"
     ]
    },
    {
     "name": "stdout",
     "output_type": "stream",
     "text": [
      "8000/8000 [==============================] - 1s 144us/step - loss: 0.3354 - acc: 0.8626\n",
      "Epoch 80/100\n",
      "8000/8000 [==============================] - 1s 149us/step - loss: 0.3350 - acc: 0.8639\n",
      "Epoch 81/100\n",
      "8000/8000 [==============================] - 1s 144us/step - loss: 0.3354 - acc: 0.8625\n",
      "Epoch 82/100\n",
      "8000/8000 [==============================] - 1s 148us/step - loss: 0.3340 - acc: 0.8659\n",
      "Epoch 83/100\n",
      "8000/8000 [==============================] - 1s 143us/step - loss: 0.3357 - acc: 0.8644\n",
      "Epoch 84/100\n",
      "8000/8000 [==============================] - 1s 155us/step - loss: 0.3355 - acc: 0.8632\n",
      "Epoch 85/100\n",
      "8000/8000 [==============================] - 1s 149us/step - loss: 0.3350 - acc: 0.8637\n",
      "Epoch 86/100\n",
      "8000/8000 [==============================] - 1s 170us/step - loss: 0.3353 - acc: 0.8654\n",
      "Epoch 87/100\n",
      "8000/8000 [==============================] - 1s 180us/step - loss: 0.3349 - acc: 0.8665\n",
      "Epoch 88/100\n",
      "8000/8000 [==============================] - 1s 159us/step - loss: 0.3349 - acc: 0.8641\n",
      "Epoch 89/100\n",
      "8000/8000 [==============================] - 1s 144us/step - loss: 0.3347 - acc: 0.8655\n",
      "Epoch 90/100\n",
      "8000/8000 [==============================] - 1s 141us/step - loss: 0.3348 - acc: 0.8649\n",
      "Epoch 91/100\n",
      "8000/8000 [==============================] - 1s 138us/step - loss: 0.3350 - acc: 0.8642\n",
      "Epoch 92/100\n",
      "8000/8000 [==============================] - 1s 149us/step - loss: 0.3342 - acc: 0.8662\n",
      "Epoch 93/100\n",
      "8000/8000 [==============================] - 1s 145us/step - loss: 0.3351 - acc: 0.8644\n",
      "Epoch 94/100\n",
      "8000/8000 [==============================] - 1s 139us/step - loss: 0.3343 - acc: 0.8646\n",
      "Epoch 95/100\n",
      "8000/8000 [==============================] - 1s 138us/step - loss: 0.3347 - acc: 0.8651\n",
      "Epoch 96/100\n",
      "8000/8000 [==============================] - 1s 148us/step - loss: 0.3351 - acc: 0.8640\n",
      "Epoch 97/100\n",
      "8000/8000 [==============================] - 1s 149us/step - loss: 0.3342 - acc: 0.8645\n",
      "Epoch 98/100\n",
      "8000/8000 [==============================] - 1s 144us/step - loss: 0.3339 - acc: 0.8645\n",
      "Epoch 99/100\n",
      "8000/8000 [==============================] - 1s 145us/step - loss: 0.3345 - acc: 0.8641\n",
      "Epoch 100/100\n",
      "8000/8000 [==============================] - 1s 144us/step - loss: 0.3351 - acc: 0.8644\n"
     ]
    },
    {
     "data": {
      "text/plain": [
       "<keras.callbacks.History at 0x1c1bedd68d0>"
      ]
     },
     "execution_count": 31,
     "metadata": {},
     "output_type": "execute_result"
    }
   ],
   "source": [
    "classifier.fit(X_train, y_train, batch_size = 10, epochs = 100)"
   ]
  },
  {
   "cell_type": "markdown",
   "metadata": {},
   "source": [
    "### 4. model prediction"
   ]
  },
  {
   "cell_type": "code",
   "execution_count": 32,
   "metadata": {},
   "outputs": [],
   "source": [
    "y_pred = classifier.predict(X_test)\n",
    "y_pred = (y_pred > 0.5)"
   ]
  },
  {
   "cell_type": "code",
   "execution_count": 45,
   "metadata": {},
   "outputs": [
    {
     "data": {
      "text/plain": [
       "<matplotlib.axes._subplots.AxesSubplot at 0x1c1c04dd518>"
      ]
     },
     "execution_count": 45,
     "metadata": {},
     "output_type": "execute_result"
    },
    {
     "data": {
      "image/png": "[encoded data removed]",
      "text/plain": [
       "<Figure size 432x288 with 2 Axes>"
      ]
     },
     "metadata": {
      "needs_background": "light"
     },
     "output_type": "display_data"
    }
   ],
   "source": [
    "#confusion matrix\n",
    "cm = confusion_matrix(y_test, y_pred)\n",
    "sns.heatmap(cm, annot = True)"
   ]
  },
  {
   "cell_type": "markdown",
   "metadata": {},
   "source": [
    "### New data prediction"
   ]
  },
  {
   "cell_type": "markdown",
   "metadata": {},
   "source": [
    "## \n",
    "geography: France\n",
    "credit score: 600\n",
    "gender: male\n",
    "age: 40\n",
    "tenure: 3\n",
    "balance: 60000\n",
    "number of product: 2\n",
    "has credit card: yes\n",
    "is active member: yes\n",
    "estimated salary: 50000\n"
   ]
  },
  {
   "cell_type": "markdown",
   "metadata": {},
   "source": [
    "France is encoded as (0, 0), male is encoded as 1"
   ]
  },
  {
   "cell_type": "code",
   "execution_count": 39,
   "metadata": {},
   "outputs": [],
   "source": [
    "new_customer = [[0, 0, 600, 1, 40, 3, 60000, 2, 1, 1, 50000]] \n",
    "new_customer = sc.transform(sc.transform(new_customer))"
   ]
  },
  {
   "cell_type": "code",
   "execution_count": 40,
   "metadata": {},
   "outputs": [],
   "source": [
    "new_prediction = classifier.predict(new_customer)"
   ]
  },
  {
   "cell_type": "markdown",
   "metadata": {},
   "source": [
    "the customer is not leaving the bank"
   ]
  },
  {
   "cell_type": "code",
   "execution_count": 41,
   "metadata": {},
   "outputs": [
    {
     "data": {
      "text/plain": [
       "array([[0.0031086]], dtype=float32)"
      ]
     },
     "execution_count": 41,
     "metadata": {},
     "output_type": "execute_result"
    }
   ],
   "source": [
    "new_prediction"
   ]
  },
  {
   "cell_type": "code",
   "execution_count": 42,
   "metadata": {},
   "outputs": [],
   "source": [
    "new_prediction = (new_prediction > 0.5)"
   ]
  },
  {
   "cell_type": "code",
   "execution_count": 43,
   "metadata": {},
   "outputs": [
    {
     "data": {
      "text/plain": [
       "array([[False]])"
      ]
     },
     "execution_count": 43,
     "metadata": {},
     "output_type": "execute_result"
    }
   ],
   "source": [
    "new_prediction"
   ]
  },
  {
   "cell_type": "code",
   "execution_count": null,
   "metadata": {},
   "outputs": [],
   "source": []
  }
 ],
 "metadata": {
  "kernelspec": {
   "display_name": "Python 3",
   "language": "python",
   "name": "python3"
  },
  "language_info": {
   "codemirror_mode": {
    "name": "ipython",
    "version": 3
   },
   "file_extension": ".py",
   "mimetype": "text/x-python",
   "name": "python",
   "nbconvert_exporter": "python",
   "pygments_lexer": "ipython3",
   "version": "3.7.3"
  }
 },
 "nbformat": 4,
 "nbformat_minor": 4
}
