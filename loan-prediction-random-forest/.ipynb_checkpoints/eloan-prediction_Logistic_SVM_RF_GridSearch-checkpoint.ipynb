{
 "cells": [
  {
   "cell_type": "markdown",
   "metadata": {},
   "source": [
    "### 1. Importing Libraries"
   ]
  },
  {
   "cell_type": "code",
   "execution_count": 9,
   "metadata": {},
   "outputs": [],
   "source": [
    "import pandas as pd\n",
    "#import numpy as np\n",
    "import matplotlib.pyplot as plt\n",
    "import seaborn as sn\n",
    "import random\n",
    "import time\n",
    "from sklearn.model_selection import train_test_split\n",
    "from sklearn.preprocessing import StandardScaler\n",
    "from sklearn.linear_model import LogisticRegression\n",
    "from sklearn.metrics import confusion_matrix, accuracy_score, f1_score, precision_score, recall_score\n",
    "from sklearn.svm import SVC\n",
    "from sklearn.ensemble import RandomForestClassifier\n",
    "from sklearn.model_selection import GridSearchCV\n",
    "from sklearn.model_selection import cross_val_score\n",
    "random.seed(100)"
   ]
  },
  {
   "cell_type": "markdown",
   "metadata": {},
   "source": [
    "### 2. Data Preprocessing"
   ]
  },
  {
   "cell_type": "code",
   "execution_count": 2,
   "metadata": {},
   "outputs": [],
   "source": [
    "dataset = pd.read_csv('P39-Financial-Data.csv')"
   ]
  },
  {
   "cell_type": "markdown",
   "metadata": {},
   "source": [
    "### 2.1 Feature Engineering"
   ]
  },
  {
   "cell_type": "code",
   "execution_count": 3,
   "metadata": {},
   "outputs": [],
   "source": [
    "# Feature Engineering\n",
    "dataset = dataset.drop(columns = ['months_employed'])\n",
    "dataset['personal_account_months'] = (dataset.personal_account_m + (dataset.personal_account_y * 12))\n",
    "dataset[['personal_account_m', 'personal_account_y', 'personal_account_months']].head()\n",
    "dataset = dataset.drop(columns = ['personal_account_m', 'personal_account_y'])"
   ]
  },
  {
   "cell_type": "markdown",
   "metadata": {},
   "source": [
    "### 2.2 One-hot encoding"
   ]
  },
  {
   "cell_type": "code",
   "execution_count": 4,
   "metadata": {},
   "outputs": [
    {
     "name": "stdout",
     "output_type": "stream",
     "text": [
      "Index(['entry_id', 'age', 'home_owner', 'income', 'years_employed',\n",
      "       'current_address_year', 'has_debt', 'amount_requested', 'risk_score',\n",
      "       'risk_score_2', 'risk_score_3', 'risk_score_4', 'risk_score_5',\n",
      "       'ext_quality_score', 'ext_quality_score_2', 'inquiries_last_month',\n",
      "       'e_signed', 'personal_account_months', 'pay_schedule_bi-weekly',\n",
      "       'pay_schedule_monthly', 'pay_schedule_semi-monthly',\n",
      "       'pay_schedule_weekly'],\n",
      "      dtype='object')\n"
     ]
    }
   ],
   "source": [
    "dataset = pd.get_dummies(dataset)\n",
    "print(dataset.columns)"
   ]
  },
  {
   "cell_type": "code",
   "execution_count": 5,
   "metadata": {},
   "outputs": [
    {
     "data": {
      "text/html": [
       "<div>\n",
       "<style scoped>\n",
       "    .dataframe tbody tr th:only-of-type {\n",
       "        vertical-align: middle;\n",
       "    }\n",
       "\n",
       "    .dataframe tbody tr th {\n",
       "        vertical-align: top;\n",
       "    }\n",
       "\n",
       "    .dataframe thead th {\n",
       "        text-align: right;\n",
       "    }\n",
       "</style>\n",
       "<table border=\"1\" class=\"dataframe\">\n",
       "  <thead>\n",
       "    <tr style=\"text-align: right;\">\n",
       "      <th></th>\n",
       "      <th>entry_id</th>\n",
       "      <th>age</th>\n",
       "      <th>home_owner</th>\n",
       "      <th>income</th>\n",
       "      <th>years_employed</th>\n",
       "      <th>current_address_year</th>\n",
       "      <th>has_debt</th>\n",
       "      <th>amount_requested</th>\n",
       "      <th>risk_score</th>\n",
       "      <th>risk_score_2</th>\n",
       "      <th>...</th>\n",
       "      <th>risk_score_5</th>\n",
       "      <th>ext_quality_score</th>\n",
       "      <th>ext_quality_score_2</th>\n",
       "      <th>inquiries_last_month</th>\n",
       "      <th>e_signed</th>\n",
       "      <th>personal_account_months</th>\n",
       "      <th>pay_schedule_bi-weekly</th>\n",
       "      <th>pay_schedule_monthly</th>\n",
       "      <th>pay_schedule_semi-monthly</th>\n",
       "      <th>pay_schedule_weekly</th>\n",
       "    </tr>\n",
       "  </thead>\n",
       "  <tbody>\n",
       "    <tr>\n",
       "      <th>0</th>\n",
       "      <td>7629673</td>\n",
       "      <td>40</td>\n",
       "      <td>1</td>\n",
       "      <td>3135</td>\n",
       "      <td>3</td>\n",
       "      <td>3</td>\n",
       "      <td>1</td>\n",
       "      <td>550</td>\n",
       "      <td>36200</td>\n",
       "      <td>0.737398</td>\n",
       "      <td>...</td>\n",
       "      <td>0.515977</td>\n",
       "      <td>0.580918</td>\n",
       "      <td>0.380918</td>\n",
       "      <td>10</td>\n",
       "      <td>1</td>\n",
       "      <td>30</td>\n",
       "      <td>1</td>\n",
       "      <td>0</td>\n",
       "      <td>0</td>\n",
       "      <td>0</td>\n",
       "    </tr>\n",
       "    <tr>\n",
       "      <th>1</th>\n",
       "      <td>3560428</td>\n",
       "      <td>61</td>\n",
       "      <td>0</td>\n",
       "      <td>3180</td>\n",
       "      <td>6</td>\n",
       "      <td>3</td>\n",
       "      <td>1</td>\n",
       "      <td>600</td>\n",
       "      <td>30150</td>\n",
       "      <td>0.738510</td>\n",
       "      <td>...</td>\n",
       "      <td>0.826402</td>\n",
       "      <td>0.730720</td>\n",
       "      <td>0.630720</td>\n",
       "      <td>9</td>\n",
       "      <td>0</td>\n",
       "      <td>86</td>\n",
       "      <td>0</td>\n",
       "      <td>0</td>\n",
       "      <td>0</td>\n",
       "      <td>1</td>\n",
       "    </tr>\n",
       "    <tr>\n",
       "      <th>2</th>\n",
       "      <td>6934997</td>\n",
       "      <td>23</td>\n",
       "      <td>0</td>\n",
       "      <td>1540</td>\n",
       "      <td>0</td>\n",
       "      <td>0</td>\n",
       "      <td>1</td>\n",
       "      <td>450</td>\n",
       "      <td>34550</td>\n",
       "      <td>0.642993</td>\n",
       "      <td>...</td>\n",
       "      <td>0.762284</td>\n",
       "      <td>0.531712</td>\n",
       "      <td>0.531712</td>\n",
       "      <td>7</td>\n",
       "      <td>0</td>\n",
       "      <td>19</td>\n",
       "      <td>0</td>\n",
       "      <td>0</td>\n",
       "      <td>0</td>\n",
       "      <td>1</td>\n",
       "    </tr>\n",
       "    <tr>\n",
       "      <th>3</th>\n",
       "      <td>5682812</td>\n",
       "      <td>40</td>\n",
       "      <td>0</td>\n",
       "      <td>5230</td>\n",
       "      <td>6</td>\n",
       "      <td>1</td>\n",
       "      <td>1</td>\n",
       "      <td>700</td>\n",
       "      <td>42150</td>\n",
       "      <td>0.665224</td>\n",
       "      <td>...</td>\n",
       "      <td>0.778831</td>\n",
       "      <td>0.792552</td>\n",
       "      <td>0.592552</td>\n",
       "      <td>8</td>\n",
       "      <td>1</td>\n",
       "      <td>86</td>\n",
       "      <td>1</td>\n",
       "      <td>0</td>\n",
       "      <td>0</td>\n",
       "      <td>0</td>\n",
       "    </tr>\n",
       "    <tr>\n",
       "      <th>4</th>\n",
       "      <td>5335819</td>\n",
       "      <td>33</td>\n",
       "      <td>0</td>\n",
       "      <td>3590</td>\n",
       "      <td>5</td>\n",
       "      <td>2</td>\n",
       "      <td>1</td>\n",
       "      <td>1100</td>\n",
       "      <td>53850</td>\n",
       "      <td>0.617361</td>\n",
       "      <td>...</td>\n",
       "      <td>0.665523</td>\n",
       "      <td>0.744634</td>\n",
       "      <td>0.744634</td>\n",
       "      <td>12</td>\n",
       "      <td>0</td>\n",
       "      <td>98</td>\n",
       "      <td>0</td>\n",
       "      <td>0</td>\n",
       "      <td>1</td>\n",
       "      <td>0</td>\n",
       "    </tr>\n",
       "  </tbody>\n",
       "</table>\n",
       "<p>5 rows × 22 columns</p>\n",
       "</div>"
      ],
      "text/plain": [
       "   entry_id  age  home_owner  income  years_employed  current_address_year  \\\n",
       "0   7629673   40           1    3135               3                     3   \n",
       "1   3560428   61           0    3180               6                     3   \n",
       "2   6934997   23           0    1540               0                     0   \n",
       "3   5682812   40           0    5230               6                     1   \n",
       "4   5335819   33           0    3590               5                     2   \n",
       "\n",
       "   has_debt  amount_requested  risk_score  risk_score_2  ...  risk_score_5  \\\n",
       "0         1               550       36200      0.737398  ...      0.515977   \n",
       "1         1               600       30150      0.738510  ...      0.826402   \n",
       "2         1               450       34550      0.642993  ...      0.762284   \n",
       "3         1               700       42150      0.665224  ...      0.778831   \n",
       "4         1              1100       53850      0.617361  ...      0.665523   \n",
       "\n",
       "   ext_quality_score  ext_quality_score_2  inquiries_last_month  e_signed  \\\n",
       "0           0.580918             0.380918                    10         1   \n",
       "1           0.730720             0.630720                     9         0   \n",
       "2           0.531712             0.531712                     7         0   \n",
       "3           0.792552             0.592552                     8         1   \n",
       "4           0.744634             0.744634                    12         0   \n",
       "\n",
       "   personal_account_months  pay_schedule_bi-weekly  pay_schedule_monthly  \\\n",
       "0                       30                       1                     0   \n",
       "1                       86                       0                     0   \n",
       "2                       19                       0                     0   \n",
       "3                       86                       1                     0   \n",
       "4                       98                       0                     0   \n",
       "\n",
       "   pay_schedule_semi-monthly  pay_schedule_weekly  \n",
       "0                          0                    0  \n",
       "1                          0                    1  \n",
       "2                          0                    1  \n",
       "3                          0                    0  \n",
       "4                          1                    0  \n",
       "\n",
       "[5 rows x 22 columns]"
      ]
     },
     "execution_count": 5,
     "metadata": {},
     "output_type": "execute_result"
    }
   ],
   "source": [
    "dataset.head()"
   ]
  },
  {
   "cell_type": "markdown",
   "metadata": {},
   "source": [
    "#### 2.3 Remove columns"
   ]
  },
  {
   "cell_type": "code",
   "execution_count": 6,
   "metadata": {},
   "outputs": [],
   "source": [
    "# Removing extra columns\n",
    "dataset = dataset.drop(columns = ['pay_schedule_semi-monthly'])\n",
    "response = dataset[\"e_signed\"]\n",
    "users = dataset['entry_id']\n",
    "dataset = dataset.drop(columns = [\"e_signed\", \"entry_id\"])"
   ]
  },
  {
   "cell_type": "markdown",
   "metadata": {},
   "source": [
    "#### 2.4 Splitting into Train and Test Set"
   ]
  },
  {
   "cell_type": "code",
   "execution_count": 7,
   "metadata": {},
   "outputs": [],
   "source": [
    "X_train, X_test, y_train, y_test = train_test_split(dataset,\n",
    "                                                    response,\n",
    "                                                    test_size = 0.2,\n",
    "                                                    random_state = 0)"
   ]
  },
  {
   "cell_type": "markdown",
   "metadata": {},
   "source": [
    "#### 2.5 Feature Scaling"
   ]
  },
  {
   "cell_type": "code",
   "execution_count": 10,
   "metadata": {},
   "outputs": [],
   "source": [
    "sc_X = StandardScaler()\n",
    "X_train2 = pd.DataFrame(sc_X.fit_transform(X_train))\n",
    "X_test2 = pd.DataFrame(sc_X.transform(X_test))\n",
    "X_train2.columns = X_train.columns.values\n",
    "X_test2.columns = X_test.columns.values\n",
    "X_train2.index = X_train.index.values\n",
    "X_test2.index = X_test.index.values\n",
    "X_train = X_train2\n",
    "X_test = X_test2"
   ]
  },
  {
   "cell_type": "code",
   "execution_count": 11,
   "metadata": {},
   "outputs": [
    {
     "data": {
      "text/html": [
       "<div>\n",
       "<style scoped>\n",
       "    .dataframe tbody tr th:only-of-type {\n",
       "        vertical-align: middle;\n",
       "    }\n",
       "\n",
       "    .dataframe tbody tr th {\n",
       "        vertical-align: top;\n",
       "    }\n",
       "\n",
       "    .dataframe thead th {\n",
       "        text-align: right;\n",
       "    }\n",
       "</style>\n",
       "<table border=\"1\" class=\"dataframe\">\n",
       "  <thead>\n",
       "    <tr style=\"text-align: right;\">\n",
       "      <th></th>\n",
       "      <th>age</th>\n",
       "      <th>home_owner</th>\n",
       "      <th>income</th>\n",
       "      <th>years_employed</th>\n",
       "      <th>current_address_year</th>\n",
       "      <th>has_debt</th>\n",
       "      <th>amount_requested</th>\n",
       "      <th>risk_score</th>\n",
       "      <th>risk_score_2</th>\n",
       "      <th>risk_score_3</th>\n",
       "      <th>risk_score_4</th>\n",
       "      <th>risk_score_5</th>\n",
       "      <th>ext_quality_score</th>\n",
       "      <th>ext_quality_score_2</th>\n",
       "      <th>inquiries_last_month</th>\n",
       "      <th>personal_account_months</th>\n",
       "      <th>pay_schedule_bi-weekly</th>\n",
       "      <th>pay_schedule_monthly</th>\n",
       "      <th>pay_schedule_weekly</th>\n",
       "    </tr>\n",
       "  </thead>\n",
       "  <tbody>\n",
       "    <tr>\n",
       "      <th>5957</th>\n",
       "      <td>-0.005991</td>\n",
       "      <td>-0.856349</td>\n",
       "      <td>-0.242358</td>\n",
       "      <td>-1.567782</td>\n",
       "      <td>-0.573557</td>\n",
       "      <td>0.507058</td>\n",
       "      <td>-0.642580</td>\n",
       "      <td>-1.905162</td>\n",
       "      <td>-1.190501</td>\n",
       "      <td>-0.766112</td>\n",
       "      <td>0.979893</td>\n",
       "      <td>-0.229380</td>\n",
       "      <td>-1.060059</td>\n",
       "      <td>-1.057386</td>\n",
       "      <td>1.784494</td>\n",
       "      <td>0.368965</td>\n",
       "      <td>-1.224638</td>\n",
       "      <td>-0.302360</td>\n",
       "      <td>1.976827</td>\n",
       "    </tr>\n",
       "    <tr>\n",
       "      <th>16854</th>\n",
       "      <td>-0.509890</td>\n",
       "      <td>-0.856349</td>\n",
       "      <td>-0.052592</td>\n",
       "      <td>0.206559</td>\n",
       "      <td>-0.937970</td>\n",
       "      <td>0.507058</td>\n",
       "      <td>-0.785621</td>\n",
       "      <td>-0.749184</td>\n",
       "      <td>1.254553</td>\n",
       "      <td>0.607772</td>\n",
       "      <td>-0.396208</td>\n",
       "      <td>0.823356</td>\n",
       "      <td>0.041801</td>\n",
       "      <td>-0.672086</td>\n",
       "      <td>-0.663369</td>\n",
       "      <td>-0.280906</td>\n",
       "      <td>-1.224638</td>\n",
       "      <td>3.307315</td>\n",
       "      <td>-0.505861</td>\n",
       "    </tr>\n",
       "    <tr>\n",
       "      <th>4429</th>\n",
       "      <td>-0.761840</td>\n",
       "      <td>1.167748</td>\n",
       "      <td>-0.412149</td>\n",
       "      <td>-1.124197</td>\n",
       "      <td>-0.937970</td>\n",
       "      <td>-1.972161</td>\n",
       "      <td>-0.642580</td>\n",
       "      <td>-1.437575</td>\n",
       "      <td>0.532590</td>\n",
       "      <td>-1.485619</td>\n",
       "      <td>-0.086860</td>\n",
       "      <td>-0.775633</td>\n",
       "      <td>0.588358</td>\n",
       "      <td>-0.841550</td>\n",
       "      <td>1.240525</td>\n",
       "      <td>0.195666</td>\n",
       "      <td>0.816568</td>\n",
       "      <td>-0.302360</td>\n",
       "      <td>-0.505861</td>\n",
       "    </tr>\n",
       "    <tr>\n",
       "      <th>13607</th>\n",
       "      <td>1.421722</td>\n",
       "      <td>1.167748</td>\n",
       "      <td>-0.638537</td>\n",
       "      <td>0.650144</td>\n",
       "      <td>2.341745</td>\n",
       "      <td>0.507058</td>\n",
       "      <td>-0.785621</td>\n",
       "      <td>-0.680994</td>\n",
       "      <td>-0.642460</td>\n",
       "      <td>1.696278</td>\n",
       "      <td>-1.252980</td>\n",
       "      <td>-1.027524</td>\n",
       "      <td>1.532749</td>\n",
       "      <td>0.817422</td>\n",
       "      <td>-0.119399</td>\n",
       "      <td>2.361903</td>\n",
       "      <td>0.816568</td>\n",
       "      <td>-0.302360</td>\n",
       "      <td>-0.505861</td>\n",
       "    </tr>\n",
       "    <tr>\n",
       "      <th>3750</th>\n",
       "      <td>-1.601671</td>\n",
       "      <td>-0.856349</td>\n",
       "      <td>-1.041374</td>\n",
       "      <td>1.093729</td>\n",
       "      <td>2.341745</td>\n",
       "      <td>0.507058</td>\n",
       "      <td>-0.499539</td>\n",
       "      <td>0.780214</td>\n",
       "      <td>-0.248764</td>\n",
       "      <td>-0.315136</td>\n",
       "      <td>-0.910402</td>\n",
       "      <td>0.225551</td>\n",
       "      <td>0.108871</td>\n",
       "      <td>1.541402</td>\n",
       "      <td>-0.935353</td>\n",
       "      <td>-0.150932</td>\n",
       "      <td>0.816568</td>\n",
       "      <td>-0.302360</td>\n",
       "      <td>-0.505861</td>\n",
       "    </tr>\n",
       "  </tbody>\n",
       "</table>\n",
       "</div>"
      ],
      "text/plain": [
       "            age  home_owner    income  years_employed  current_address_year  \\\n",
       "5957  -0.005991   -0.856349 -0.242358       -1.567782             -0.573557   \n",
       "16854 -0.509890   -0.856349 -0.052592        0.206559             -0.937970   \n",
       "4429  -0.761840    1.167748 -0.412149       -1.124197             -0.937970   \n",
       "13607  1.421722    1.167748 -0.638537        0.650144              2.341745   \n",
       "3750  -1.601671   -0.856349 -1.041374        1.093729              2.341745   \n",
       "\n",
       "       has_debt  amount_requested  risk_score  risk_score_2  risk_score_3  \\\n",
       "5957   0.507058         -0.642580   -1.905162     -1.190501     -0.766112   \n",
       "16854  0.507058         -0.785621   -0.749184      1.254553      0.607772   \n",
       "4429  -1.972161         -0.642580   -1.437575      0.532590     -1.485619   \n",
       "13607  0.507058         -0.785621   -0.680994     -0.642460      1.696278   \n",
       "3750   0.507058         -0.499539    0.780214     -0.248764     -0.315136   \n",
       "\n",
       "       risk_score_4  risk_score_5  ext_quality_score  ext_quality_score_2  \\\n",
       "5957       0.979893     -0.229380          -1.060059            -1.057386   \n",
       "16854     -0.396208      0.823356           0.041801            -0.672086   \n",
       "4429      -0.086860     -0.775633           0.588358            -0.841550   \n",
       "13607     -1.252980     -1.027524           1.532749             0.817422   \n",
       "3750      -0.910402      0.225551           0.108871             1.541402   \n",
       "\n",
       "       inquiries_last_month  personal_account_months  pay_schedule_bi-weekly  \\\n",
       "5957               1.784494                 0.368965               -1.224638   \n",
       "16854             -0.663369                -0.280906               -1.224638   \n",
       "4429               1.240525                 0.195666                0.816568   \n",
       "13607             -0.119399                 2.361903                0.816568   \n",
       "3750              -0.935353                -0.150932                0.816568   \n",
       "\n",
       "       pay_schedule_monthly  pay_schedule_weekly  \n",
       "5957              -0.302360             1.976827  \n",
       "16854              3.307315            -0.505861  \n",
       "4429              -0.302360            -0.505861  \n",
       "13607             -0.302360            -0.505861  \n",
       "3750              -0.302360            -0.505861  "
      ]
     },
     "execution_count": 11,
     "metadata": {},
     "output_type": "execute_result"
    }
   ],
   "source": [
    "X_train.head()"
   ]
  },
  {
   "cell_type": "code",
   "execution_count": 12,
   "metadata": {},
   "outputs": [
    {
     "data": {
      "text/html": [
       "<div>\n",
       "<style scoped>\n",
       "    .dataframe tbody tr th:only-of-type {\n",
       "        vertical-align: middle;\n",
       "    }\n",
       "\n",
       "    .dataframe tbody tr th {\n",
       "        vertical-align: top;\n",
       "    }\n",
       "\n",
       "    .dataframe thead th {\n",
       "        text-align: right;\n",
       "    }\n",
       "</style>\n",
       "<table border=\"1\" class=\"dataframe\">\n",
       "  <thead>\n",
       "    <tr style=\"text-align: right;\">\n",
       "      <th></th>\n",
       "      <th>age</th>\n",
       "      <th>home_owner</th>\n",
       "      <th>income</th>\n",
       "      <th>years_employed</th>\n",
       "      <th>current_address_year</th>\n",
       "      <th>has_debt</th>\n",
       "      <th>amount_requested</th>\n",
       "      <th>risk_score</th>\n",
       "      <th>risk_score_2</th>\n",
       "      <th>risk_score_3</th>\n",
       "      <th>risk_score_4</th>\n",
       "      <th>risk_score_5</th>\n",
       "      <th>ext_quality_score</th>\n",
       "      <th>ext_quality_score_2</th>\n",
       "      <th>inquiries_last_month</th>\n",
       "      <th>personal_account_months</th>\n",
       "      <th>pay_schedule_bi-weekly</th>\n",
       "      <th>pay_schedule_monthly</th>\n",
       "      <th>pay_schedule_weekly</th>\n",
       "    </tr>\n",
       "  </thead>\n",
       "  <tbody>\n",
       "    <tr>\n",
       "      <th>3629</th>\n",
       "      <td>-1.013789</td>\n",
       "      <td>-0.856349</td>\n",
       "      <td>-0.242358</td>\n",
       "      <td>-1.124197</td>\n",
       "      <td>-1.302383</td>\n",
       "      <td>0.507058</td>\n",
       "      <td>0.358706</td>\n",
       "      <td>-0.944012</td>\n",
       "      <td>0.548408</td>\n",
       "      <td>-1.076350</td>\n",
       "      <td>0.059153</td>\n",
       "      <td>0.326152</td>\n",
       "      <td>0.314517</td>\n",
       "      <td>-0.399633</td>\n",
       "      <td>0.696555</td>\n",
       "      <td>-0.324231</td>\n",
       "      <td>-1.224638</td>\n",
       "      <td>-0.30236</td>\n",
       "      <td>-0.505861</td>\n",
       "    </tr>\n",
       "    <tr>\n",
       "      <th>1820</th>\n",
       "      <td>-1.013789</td>\n",
       "      <td>-0.856349</td>\n",
       "      <td>-0.335577</td>\n",
       "      <td>-0.237027</td>\n",
       "      <td>-1.302383</td>\n",
       "      <td>-1.972161</td>\n",
       "      <td>-0.213457</td>\n",
       "      <td>0.767226</td>\n",
       "      <td>-0.024644</td>\n",
       "      <td>-0.047016</td>\n",
       "      <td>-0.029979</td>\n",
       "      <td>0.641494</td>\n",
       "      <td>-0.781613</td>\n",
       "      <td>-0.063715</td>\n",
       "      <td>-1.207338</td>\n",
       "      <td>0.195666</td>\n",
       "      <td>0.816568</td>\n",
       "      <td>-0.30236</td>\n",
       "      <td>-0.505861</td>\n",
       "    </tr>\n",
       "    <tr>\n",
       "      <th>6685</th>\n",
       "      <td>0.245958</td>\n",
       "      <td>-0.856349</td>\n",
       "      <td>-0.598586</td>\n",
       "      <td>2.868070</td>\n",
       "      <td>0.884094</td>\n",
       "      <td>0.507058</td>\n",
       "      <td>0.215665</td>\n",
       "      <td>0.757484</td>\n",
       "      <td>-1.051686</td>\n",
       "      <td>-0.521003</td>\n",
       "      <td>-1.033452</td>\n",
       "      <td>-1.293930</td>\n",
       "      <td>-0.505566</td>\n",
       "      <td>-0.503429</td>\n",
       "      <td>-0.391384</td>\n",
       "      <td>-0.844128</td>\n",
       "      <td>-1.224638</td>\n",
       "      <td>-0.30236</td>\n",
       "      <td>-0.505861</td>\n",
       "    </tr>\n",
       "    <tr>\n",
       "      <th>17241</th>\n",
       "      <td>0.329941</td>\n",
       "      <td>-0.856349</td>\n",
       "      <td>0.237051</td>\n",
       "      <td>-0.237027</td>\n",
       "      <td>2.341745</td>\n",
       "      <td>0.507058</td>\n",
       "      <td>2.718881</td>\n",
       "      <td>1.264037</td>\n",
       "      <td>-0.268713</td>\n",
       "      <td>-0.313492</td>\n",
       "      <td>-0.381701</td>\n",
       "      <td>1.167423</td>\n",
       "      <td>-0.616575</td>\n",
       "      <td>0.816657</td>\n",
       "      <td>-0.119399</td>\n",
       "      <td>2.361903</td>\n",
       "      <td>-1.224638</td>\n",
       "      <td>-0.30236</td>\n",
       "      <td>1.976827</td>\n",
       "    </tr>\n",
       "    <tr>\n",
       "      <th>8332</th>\n",
       "      <td>-0.509890</td>\n",
       "      <td>1.167748</td>\n",
       "      <td>3.357207</td>\n",
       "      <td>-0.237027</td>\n",
       "      <td>-0.937970</td>\n",
       "      <td>0.507058</td>\n",
       "      <td>2.790402</td>\n",
       "      <td>1.189353</td>\n",
       "      <td>-0.224014</td>\n",
       "      <td>1.102305</td>\n",
       "      <td>0.237540</td>\n",
       "      <td>0.350924</td>\n",
       "      <td>1.006524</td>\n",
       "      <td>1.007200</td>\n",
       "      <td>-0.663369</td>\n",
       "      <td>-1.364025</td>\n",
       "      <td>-1.224638</td>\n",
       "      <td>-0.30236</td>\n",
       "      <td>-0.505861</td>\n",
       "    </tr>\n",
       "  </tbody>\n",
       "</table>\n",
       "</div>"
      ],
      "text/plain": [
       "            age  home_owner    income  years_employed  current_address_year  \\\n",
       "3629  -1.013789   -0.856349 -0.242358       -1.124197             -1.302383   \n",
       "1820  -1.013789   -0.856349 -0.335577       -0.237027             -1.302383   \n",
       "6685   0.245958   -0.856349 -0.598586        2.868070              0.884094   \n",
       "17241  0.329941   -0.856349  0.237051       -0.237027              2.341745   \n",
       "8332  -0.509890    1.167748  3.357207       -0.237027             -0.937970   \n",
       "\n",
       "       has_debt  amount_requested  risk_score  risk_score_2  risk_score_3  \\\n",
       "3629   0.507058          0.358706   -0.944012      0.548408     -1.076350   \n",
       "1820  -1.972161         -0.213457    0.767226     -0.024644     -0.047016   \n",
       "6685   0.507058          0.215665    0.757484     -1.051686     -0.521003   \n",
       "17241  0.507058          2.718881    1.264037     -0.268713     -0.313492   \n",
       "8332   0.507058          2.790402    1.189353     -0.224014      1.102305   \n",
       "\n",
       "       risk_score_4  risk_score_5  ext_quality_score  ext_quality_score_2  \\\n",
       "3629       0.059153      0.326152           0.314517            -0.399633   \n",
       "1820      -0.029979      0.641494          -0.781613            -0.063715   \n",
       "6685      -1.033452     -1.293930          -0.505566            -0.503429   \n",
       "17241     -0.381701      1.167423          -0.616575             0.816657   \n",
       "8332       0.237540      0.350924           1.006524             1.007200   \n",
       "\n",
       "       inquiries_last_month  personal_account_months  pay_schedule_bi-weekly  \\\n",
       "3629               0.696555                -0.324231               -1.224638   \n",
       "1820              -1.207338                 0.195666                0.816568   \n",
       "6685              -0.391384                -0.844128               -1.224638   \n",
       "17241             -0.119399                 2.361903               -1.224638   \n",
       "8332              -0.663369                -1.364025               -1.224638   \n",
       "\n",
       "       pay_schedule_monthly  pay_schedule_weekly  \n",
       "3629               -0.30236            -0.505861  \n",
       "1820               -0.30236            -0.505861  \n",
       "6685               -0.30236            -0.505861  \n",
       "17241              -0.30236             1.976827  \n",
       "8332               -0.30236            -0.505861  "
      ]
     },
     "execution_count": 12,
     "metadata": {},
     "output_type": "execute_result"
    }
   ],
   "source": [
    "X_test.head()"
   ]
  },
  {
   "cell_type": "markdown",
   "metadata": {},
   "source": [
    "## 3. Model Create"
   ]
  },
  {
   "cell_type": "markdown",
   "metadata": {},
   "source": [
    "#### 3.1 Logistic Regression"
   ]
  },
  {
   "cell_type": "code",
   "execution_count": 14,
   "metadata": {},
   "outputs": [
    {
     "data": {
      "text/plain": [
       "LogisticRegression(random_state=0)"
      ]
     },
     "execution_count": 14,
     "metadata": {},
     "output_type": "execute_result"
    }
   ],
   "source": [
    "classifier = LogisticRegression(random_state = 0, penalty = 'l2')\n",
    "classifier.fit(X_train, y_train)"
   ]
  },
  {
   "cell_type": "code",
   "execution_count": 15,
   "metadata": {},
   "outputs": [],
   "source": [
    "# Predicting Test Set\n",
    "y_pred = classifier.predict(X_test)"
   ]
  },
  {
   "cell_type": "code",
   "execution_count": 16,
   "metadata": {},
   "outputs": [],
   "source": [
    "acc = accuracy_score(y_test, y_pred)\n",
    "prec = precision_score(y_test, y_pred)\n",
    "rec = recall_score(y_test, y_pred)\n",
    "f1 = f1_score(y_test, y_pred)"
   ]
  },
  {
   "cell_type": "code",
   "execution_count": 17,
   "metadata": {},
   "outputs": [],
   "source": [
    "results = pd.DataFrame([['Linear Regression (Lasso)', acc, prec, rec, f1]],\n",
    "               columns = ['Model', 'Accuracy', 'Precision', 'Recall', 'F1 Score'])"
   ]
  },
  {
   "cell_type": "code",
   "execution_count": 18,
   "metadata": {},
   "outputs": [
    {
     "data": {
      "text/html": [
       "<div>\n",
       "<style scoped>\n",
       "    .dataframe tbody tr th:only-of-type {\n",
       "        vertical-align: middle;\n",
       "    }\n",
       "\n",
       "    .dataframe tbody tr th {\n",
       "        vertical-align: top;\n",
       "    }\n",
       "\n",
       "    .dataframe thead th {\n",
       "        text-align: right;\n",
       "    }\n",
       "</style>\n",
       "<table border=\"1\" class=\"dataframe\">\n",
       "  <thead>\n",
       "    <tr style=\"text-align: right;\">\n",
       "      <th></th>\n",
       "      <th>Model</th>\n",
       "      <th>Accuracy</th>\n",
       "      <th>Precision</th>\n",
       "      <th>Recall</th>\n",
       "      <th>F1 Score</th>\n",
       "    </tr>\n",
       "  </thead>\n",
       "  <tbody>\n",
       "    <tr>\n",
       "      <th>0</th>\n",
       "      <td>Linear Regression (Lasso)</td>\n",
       "      <td>0.562535</td>\n",
       "      <td>0.576386</td>\n",
       "      <td>0.706432</td>\n",
       "      <td>0.634817</td>\n",
       "    </tr>\n",
       "  </tbody>\n",
       "</table>\n",
       "</div>"
      ],
      "text/plain": [
       "                       Model  Accuracy  Precision    Recall  F1 Score\n",
       "0  Linear Regression (Lasso)  0.562535   0.576386  0.706432  0.634817"
      ]
     },
     "execution_count": 18,
     "metadata": {},
     "output_type": "execute_result"
    }
   ],
   "source": [
    "results"
   ]
  },
  {
   "cell_type": "markdown",
   "metadata": {},
   "source": [
    "#### 3.2 SVM (Linear)"
   ]
  },
  {
   "cell_type": "code",
   "execution_count": 19,
   "metadata": {},
   "outputs": [
    {
     "data": {
      "text/plain": [
       "SVC(kernel='linear', random_state=0)"
      ]
     },
     "execution_count": 19,
     "metadata": {},
     "output_type": "execute_result"
    }
   ],
   "source": [
    "classifier = SVC(random_state = 0, kernel = 'linear')\n",
    "classifier.fit(X_train, y_train)"
   ]
  },
  {
   "cell_type": "code",
   "execution_count": 20,
   "metadata": {},
   "outputs": [],
   "source": [
    "# Predicting Test Set\n",
    "y_pred = classifier.predict(X_test)"
   ]
  },
  {
   "cell_type": "code",
   "execution_count": 21,
   "metadata": {},
   "outputs": [],
   "source": [
    "acc = accuracy_score(y_test, y_pred)\n",
    "prec = precision_score(y_test, y_pred)\n",
    "rec = recall_score(y_test, y_pred)\n",
    "f1 = f1_score(y_test, y_pred)\n",
    "\n",
    "model_results = pd.DataFrame([['SVM (Linear)', acc, prec, rec, f1]],\n",
    "               columns = ['Model', 'Accuracy', 'Precision', 'Recall', 'F1 Score'])\n",
    "\n",
    "results = results.append(model_results, ignore_index = True)"
   ]
  },
  {
   "cell_type": "code",
   "execution_count": 22,
   "metadata": {},
   "outputs": [
    {
     "data": {
      "text/html": [
       "<div>\n",
       "<style scoped>\n",
       "    .dataframe tbody tr th:only-of-type {\n",
       "        vertical-align: middle;\n",
       "    }\n",
       "\n",
       "    .dataframe tbody tr th {\n",
       "        vertical-align: top;\n",
       "    }\n",
       "\n",
       "    .dataframe thead th {\n",
       "        text-align: right;\n",
       "    }\n",
       "</style>\n",
       "<table border=\"1\" class=\"dataframe\">\n",
       "  <thead>\n",
       "    <tr style=\"text-align: right;\">\n",
       "      <th></th>\n",
       "      <th>Model</th>\n",
       "      <th>Accuracy</th>\n",
       "      <th>Precision</th>\n",
       "      <th>Recall</th>\n",
       "      <th>F1 Score</th>\n",
       "    </tr>\n",
       "  </thead>\n",
       "  <tbody>\n",
       "    <tr>\n",
       "      <th>0</th>\n",
       "      <td>Linear Regression (Lasso)</td>\n",
       "      <td>0.562535</td>\n",
       "      <td>0.576386</td>\n",
       "      <td>0.706432</td>\n",
       "      <td>0.634817</td>\n",
       "    </tr>\n",
       "    <tr>\n",
       "      <th>1</th>\n",
       "      <td>SVM (Linear)</td>\n",
       "      <td>0.568398</td>\n",
       "      <td>0.577769</td>\n",
       "      <td>0.735996</td>\n",
       "      <td>0.647354</td>\n",
       "    </tr>\n",
       "  </tbody>\n",
       "</table>\n",
       "</div>"
      ],
      "text/plain": [
       "                       Model  Accuracy  Precision    Recall  F1 Score\n",
       "0  Linear Regression (Lasso)  0.562535   0.576386  0.706432  0.634817\n",
       "1               SVM (Linear)  0.568398   0.577769  0.735996  0.647354"
      ]
     },
     "execution_count": 22,
     "metadata": {},
     "output_type": "execute_result"
    }
   ],
   "source": [
    "results"
   ]
  },
  {
   "cell_type": "markdown",
   "metadata": {},
   "source": [
    "#### 3.3 SVM (rbf)"
   ]
  },
  {
   "cell_type": "code",
   "execution_count": 23,
   "metadata": {},
   "outputs": [
    {
     "data": {
      "text/plain": [
       "SVC(random_state=0)"
      ]
     },
     "execution_count": 23,
     "metadata": {},
     "output_type": "execute_result"
    }
   ],
   "source": [
    "classifier = SVC(random_state = 0, kernel = 'rbf')\n",
    "classifier.fit(X_train, y_train)"
   ]
  },
  {
   "cell_type": "code",
   "execution_count": 24,
   "metadata": {},
   "outputs": [],
   "source": [
    "# Predicting Test Set\n",
    "y_pred = classifier.predict(X_test)"
   ]
  },
  {
   "cell_type": "code",
   "execution_count": 25,
   "metadata": {},
   "outputs": [],
   "source": [
    "acc = accuracy_score(y_test, y_pred)\n",
    "prec = precision_score(y_test, y_pred)\n",
    "rec = recall_score(y_test, y_pred)\n",
    "f1 = f1_score(y_test, y_pred)\n",
    "\n",
    "model_results = pd.DataFrame([['SVM (RBF)', acc, prec, rec, f1]],\n",
    "               columns = ['Model', 'Accuracy', 'Precision', 'Recall', 'F1 Score'])\n",
    "\n",
    "results = results.append(model_results, ignore_index = True)"
   ]
  },
  {
   "cell_type": "code",
   "execution_count": 26,
   "metadata": {},
   "outputs": [
    {
     "data": {
      "text/html": [
       "<div>\n",
       "<style scoped>\n",
       "    .dataframe tbody tr th:only-of-type {\n",
       "        vertical-align: middle;\n",
       "    }\n",
       "\n",
       "    .dataframe tbody tr th {\n",
       "        vertical-align: top;\n",
       "    }\n",
       "\n",
       "    .dataframe thead th {\n",
       "        text-align: right;\n",
       "    }\n",
       "</style>\n",
       "<table border=\"1\" class=\"dataframe\">\n",
       "  <thead>\n",
       "    <tr style=\"text-align: right;\">\n",
       "      <th></th>\n",
       "      <th>Model</th>\n",
       "      <th>Accuracy</th>\n",
       "      <th>Precision</th>\n",
       "      <th>Recall</th>\n",
       "      <th>F1 Score</th>\n",
       "    </tr>\n",
       "  </thead>\n",
       "  <tbody>\n",
       "    <tr>\n",
       "      <th>0</th>\n",
       "      <td>Linear Regression (Lasso)</td>\n",
       "      <td>0.562535</td>\n",
       "      <td>0.576386</td>\n",
       "      <td>0.706432</td>\n",
       "      <td>0.634817</td>\n",
       "    </tr>\n",
       "    <tr>\n",
       "      <th>1</th>\n",
       "      <td>SVM (Linear)</td>\n",
       "      <td>0.568398</td>\n",
       "      <td>0.577769</td>\n",
       "      <td>0.735996</td>\n",
       "      <td>0.647354</td>\n",
       "    </tr>\n",
       "    <tr>\n",
       "      <th>2</th>\n",
       "      <td>SVM (RBF)</td>\n",
       "      <td>0.591569</td>\n",
       "      <td>0.605730</td>\n",
       "      <td>0.690871</td>\n",
       "      <td>0.645505</td>\n",
       "    </tr>\n",
       "  </tbody>\n",
       "</table>\n",
       "</div>"
      ],
      "text/plain": [
       "                       Model  Accuracy  Precision    Recall  F1 Score\n",
       "0  Linear Regression (Lasso)  0.562535   0.576386  0.706432  0.634817\n",
       "1               SVM (Linear)  0.568398   0.577769  0.735996  0.647354\n",
       "2                  SVM (RBF)  0.591569   0.605730  0.690871  0.645505"
      ]
     },
     "execution_count": 26,
     "metadata": {},
     "output_type": "execute_result"
    }
   ],
   "source": [
    "results"
   ]
  },
  {
   "cell_type": "markdown",
   "metadata": {},
   "source": [
    "#### 3.4 Random forest"
   ]
  },
  {
   "cell_type": "code",
   "execution_count": 27,
   "metadata": {},
   "outputs": [
    {
     "data": {
      "text/plain": [
       "RandomForestClassifier(criterion='entropy', random_state=0)"
      ]
     },
     "execution_count": 27,
     "metadata": {},
     "output_type": "execute_result"
    }
   ],
   "source": [
    "classifier = RandomForestClassifier(random_state = 0, n_estimators = 100,\n",
    "                                    criterion = 'entropy')\n",
    "classifier.fit(X_train, y_train)"
   ]
  },
  {
   "cell_type": "code",
   "execution_count": 28,
   "metadata": {},
   "outputs": [],
   "source": [
    "# Predicting Test Set\n",
    "y_pred = classifier.predict(X_test)"
   ]
  },
  {
   "cell_type": "code",
   "execution_count": 29,
   "metadata": {},
   "outputs": [],
   "source": [
    "acc = accuracy_score(y_test, y_pred)\n",
    "prec = precision_score(y_test, y_pred)\n",
    "rec = recall_score(y_test, y_pred)\n",
    "f1 = f1_score(y_test, y_pred)\n",
    "\n",
    "model_results = pd.DataFrame([['Random Forest (n=100)', acc, prec, rec, f1]],\n",
    "               columns = ['Model', 'Accuracy', 'Precision', 'Recall', 'F1 Score'])\n",
    "\n",
    "results = results.append(model_results, ignore_index = True)\n"
   ]
  },
  {
   "cell_type": "code",
   "execution_count": 30,
   "metadata": {},
   "outputs": [
    {
     "data": {
      "text/html": [
       "<div>\n",
       "<style scoped>\n",
       "    .dataframe tbody tr th:only-of-type {\n",
       "        vertical-align: middle;\n",
       "    }\n",
       "\n",
       "    .dataframe tbody tr th {\n",
       "        vertical-align: top;\n",
       "    }\n",
       "\n",
       "    .dataframe thead th {\n",
       "        text-align: right;\n",
       "    }\n",
       "</style>\n",
       "<table border=\"1\" class=\"dataframe\">\n",
       "  <thead>\n",
       "    <tr style=\"text-align: right;\">\n",
       "      <th></th>\n",
       "      <th>Model</th>\n",
       "      <th>Accuracy</th>\n",
       "      <th>Precision</th>\n",
       "      <th>Recall</th>\n",
       "      <th>F1 Score</th>\n",
       "    </tr>\n",
       "  </thead>\n",
       "  <tbody>\n",
       "    <tr>\n",
       "      <th>0</th>\n",
       "      <td>Linear Regression (Lasso)</td>\n",
       "      <td>0.562535</td>\n",
       "      <td>0.576386</td>\n",
       "      <td>0.706432</td>\n",
       "      <td>0.634817</td>\n",
       "    </tr>\n",
       "    <tr>\n",
       "      <th>1</th>\n",
       "      <td>SVM (Linear)</td>\n",
       "      <td>0.568398</td>\n",
       "      <td>0.577769</td>\n",
       "      <td>0.735996</td>\n",
       "      <td>0.647354</td>\n",
       "    </tr>\n",
       "    <tr>\n",
       "      <th>2</th>\n",
       "      <td>SVM (RBF)</td>\n",
       "      <td>0.591569</td>\n",
       "      <td>0.605730</td>\n",
       "      <td>0.690871</td>\n",
       "      <td>0.645505</td>\n",
       "    </tr>\n",
       "    <tr>\n",
       "      <th>3</th>\n",
       "      <td>Random Forest (n=100)</td>\n",
       "      <td>0.621720</td>\n",
       "      <td>0.640098</td>\n",
       "      <td>0.678942</td>\n",
       "      <td>0.658948</td>\n",
       "    </tr>\n",
       "  </tbody>\n",
       "</table>\n",
       "</div>"
      ],
      "text/plain": [
       "                       Model  Accuracy  Precision    Recall  F1 Score\n",
       "0  Linear Regression (Lasso)  0.562535   0.576386  0.706432  0.634817\n",
       "1               SVM (Linear)  0.568398   0.577769  0.735996  0.647354\n",
       "2                  SVM (RBF)  0.591569   0.605730  0.690871  0.645505\n",
       "3      Random Forest (n=100)  0.621720   0.640098  0.678942  0.658948"
      ]
     },
     "execution_count": 30,
     "metadata": {},
     "output_type": "execute_result"
    }
   ],
   "source": [
    "results"
   ]
  },
  {
   "cell_type": "markdown",
   "metadata": {},
   "source": [
    "#### 3.4.1 K-fold Cross Validation"
   ]
  },
  {
   "cell_type": "code",
   "execution_count": 31,
   "metadata": {},
   "outputs": [],
   "source": [
    "accuracies = cross_val_score(estimator = classifier, X= X_train, y = y_train,\n",
    "                             cv = 10)"
   ]
  },
  {
   "cell_type": "code",
   "execution_count": 32,
   "metadata": {},
   "outputs": [
    {
     "name": "stdout",
     "output_type": "stream",
     "text": [
      "Random Forest Classifier Accuracy: 0.63 (+/- 0.03)\n"
     ]
    }
   ],
   "source": [
    "print(\"Random Forest Classifier Accuracy: %0.2f (+/- %0.2f)\"  % (accuracies.mean(), accuracies.std() * 2))"
   ]
  },
  {
   "cell_type": "markdown",
   "metadata": {},
   "source": [
    "#### 3.4.2 Parameter tuning"
   ]
  },
  {
   "cell_type": "markdown",
   "metadata": {},
   "source": [
    "#### Round 1: Entropy"
   ]
  },
  {
   "cell_type": "code",
   "execution_count": 33,
   "metadata": {},
   "outputs": [],
   "source": [
    "parameters = {\"max_depth\": [3, None],\n",
    "              \"max_features\": [1, 5, 10],\n",
    "              'min_samples_split': [2, 5, 10],\n",
    "              'min_samples_leaf': [1, 5, 10],\n",
    "              \"bootstrap\": [True, False],\n",
    "              \"criterion\": [\"entropy\"]}"
   ]
  },
  {
   "cell_type": "code",
   "execution_count": 34,
   "metadata": {},
   "outputs": [
    {
     "name": "stdout",
     "output_type": "stream",
     "text": [
      "Took 3363.97 seconds\n"
     ]
    }
   ],
   "source": [
    "grid_search = GridSearchCV(estimator = classifier, # Make sure classifier points to the RF model\n",
    "                           param_grid = parameters,\n",
    "                           scoring = \"accuracy\",\n",
    "                           cv = 10,\n",
    "                           n_jobs = -1)\n",
    "\n",
    "t0 = time.time()\n",
    "grid_search = grid_search.fit(X_train, y_train)\n",
    "t1 = time.time()\n",
    "print(\"Took %0.2f seconds\" % (t1 - t0))"
   ]
  },
  {
   "cell_type": "code",
   "execution_count": 35,
   "metadata": {},
   "outputs": [
    {
     "data": {
      "text/plain": [
       "(0.6345122647725013,\n",
       " {'bootstrap': True,\n",
       "  'criterion': 'entropy',\n",
       "  'max_depth': None,\n",
       "  'max_features': 5,\n",
       "  'min_samples_leaf': 5,\n",
       "  'min_samples_split': 2})"
      ]
     },
     "execution_count": 35,
     "metadata": {},
     "output_type": "execute_result"
    }
   ],
   "source": [
    "rf_best_accuracy = grid_search.best_score_\n",
    "rf_best_parameters = grid_search.best_params_\n",
    "rf_best_accuracy, rf_best_parameters"
   ]
  },
  {
   "cell_type": "markdown",
   "metadata": {},
   "source": [
    "#### Round 2: Entropy"
   ]
  },
  {
   "cell_type": "code",
   "execution_count": 36,
   "metadata": {},
   "outputs": [],
   "source": [
    "parameters = {\"max_depth\": [None],\n",
    "              \"max_features\": [3, 5, 7],\n",
    "              'min_samples_split': [8, 10, 12],\n",
    "              'min_samples_leaf': [1, 2, 3],\n",
    "              \"bootstrap\": [True],\n",
    "              \"criterion\": [\"entropy\"]}"
   ]
  },
  {
   "cell_type": "code",
   "execution_count": 37,
   "metadata": {},
   "outputs": [
    {
     "name": "stdout",
     "output_type": "stream",
     "text": [
      "Took 827.97 seconds\n"
     ]
    }
   ],
   "source": [
    "grid_search = GridSearchCV(estimator = classifier, # Make sure classifier points to the RF model\n",
    "                           param_grid = parameters,\n",
    "                           scoring = \"accuracy\",\n",
    "                           cv = 10,\n",
    "                           n_jobs = -1)\n",
    "\n",
    "t0 = time.time()\n",
    "grid_search = grid_search.fit(X_train, y_train)\n",
    "t1 = time.time()\n",
    "print(\"Took %0.2f seconds\" % (t1 - t0))"
   ]
  },
  {
   "cell_type": "code",
   "execution_count": 38,
   "metadata": {},
   "outputs": [
    {
     "data": {
      "text/plain": [
       "(0.6356302654508454,\n",
       " {'bootstrap': True,\n",
       "  'criterion': 'entropy',\n",
       "  'max_depth': None,\n",
       "  'max_features': 5,\n",
       "  'min_samples_leaf': 2,\n",
       "  'min_samples_split': 12})"
      ]
     },
     "execution_count": 38,
     "metadata": {},
     "output_type": "execute_result"
    }
   ],
   "source": [
    "rf_best_accuracy = grid_search.best_score_\n",
    "rf_best_parameters = grid_search.best_params_\n",
    "rf_best_accuracy, rf_best_parameters"
   ]
  },
  {
   "cell_type": "markdown",
   "metadata": {},
   "source": [
    "####  Entropy - Predicting Test Set"
   ]
  },
  {
   "cell_type": "code",
   "execution_count": 39,
   "metadata": {},
   "outputs": [],
   "source": [
    "y_pred = grid_search.predict(X_test)\n",
    "acc = accuracy_score(y_test, y_pred)\n",
    "prec = precision_score(y_test, y_pred)\n",
    "rec = recall_score(y_test, y_pred)\n",
    "f1 = f1_score(y_test, y_pred)"
   ]
  },
  {
   "cell_type": "code",
   "execution_count": 40,
   "metadata": {},
   "outputs": [],
   "source": [
    "model_results = pd.DataFrame([['Random Forest (n=100, GSx2 + Entropy)', acc, prec, rec, f1]],\n",
    "               columns = ['Model', 'Accuracy', 'Precision', 'Recall', 'F1 Score'])\n",
    "\n",
    "results = results.append(model_results, ignore_index = True)"
   ]
  },
  {
   "cell_type": "code",
   "execution_count": 41,
   "metadata": {},
   "outputs": [
    {
     "data": {
      "text/html": [
       "<div>\n",
       "<style scoped>\n",
       "    .dataframe tbody tr th:only-of-type {\n",
       "        vertical-align: middle;\n",
       "    }\n",
       "\n",
       "    .dataframe tbody tr th {\n",
       "        vertical-align: top;\n",
       "    }\n",
       "\n",
       "    .dataframe thead th {\n",
       "        text-align: right;\n",
       "    }\n",
       "</style>\n",
       "<table border=\"1\" class=\"dataframe\">\n",
       "  <thead>\n",
       "    <tr style=\"text-align: right;\">\n",
       "      <th></th>\n",
       "      <th>Model</th>\n",
       "      <th>Accuracy</th>\n",
       "      <th>Precision</th>\n",
       "      <th>Recall</th>\n",
       "      <th>F1 Score</th>\n",
       "    </tr>\n",
       "  </thead>\n",
       "  <tbody>\n",
       "    <tr>\n",
       "      <th>0</th>\n",
       "      <td>Linear Regression (Lasso)</td>\n",
       "      <td>0.562535</td>\n",
       "      <td>0.576386</td>\n",
       "      <td>0.706432</td>\n",
       "      <td>0.634817</td>\n",
       "    </tr>\n",
       "    <tr>\n",
       "      <th>1</th>\n",
       "      <td>SVM (Linear)</td>\n",
       "      <td>0.568398</td>\n",
       "      <td>0.577769</td>\n",
       "      <td>0.735996</td>\n",
       "      <td>0.647354</td>\n",
       "    </tr>\n",
       "    <tr>\n",
       "      <th>2</th>\n",
       "      <td>SVM (RBF)</td>\n",
       "      <td>0.591569</td>\n",
       "      <td>0.605730</td>\n",
       "      <td>0.690871</td>\n",
       "      <td>0.645505</td>\n",
       "    </tr>\n",
       "    <tr>\n",
       "      <th>3</th>\n",
       "      <td>Random Forest (n=100)</td>\n",
       "      <td>0.621720</td>\n",
       "      <td>0.640098</td>\n",
       "      <td>0.678942</td>\n",
       "      <td>0.658948</td>\n",
       "    </tr>\n",
       "    <tr>\n",
       "      <th>4</th>\n",
       "      <td>Random Forest (n=100, GSx2 + Entropy)</td>\n",
       "      <td>0.625070</td>\n",
       "      <td>0.640828</td>\n",
       "      <td>0.690353</td>\n",
       "      <td>0.664669</td>\n",
       "    </tr>\n",
       "  </tbody>\n",
       "</table>\n",
       "</div>"
      ],
      "text/plain": [
       "                                   Model  Accuracy  Precision    Recall  \\\n",
       "0              Linear Regression (Lasso)  0.562535   0.576386  0.706432   \n",
       "1                           SVM (Linear)  0.568398   0.577769  0.735996   \n",
       "2                              SVM (RBF)  0.591569   0.605730  0.690871   \n",
       "3                  Random Forest (n=100)  0.621720   0.640098  0.678942   \n",
       "4  Random Forest (n=100, GSx2 + Entropy)  0.625070   0.640828  0.690353   \n",
       "\n",
       "   F1 Score  \n",
       "0  0.634817  \n",
       "1  0.647354  \n",
       "2  0.645505  \n",
       "3  0.658948  \n",
       "4  0.664669  "
      ]
     },
     "execution_count": 41,
     "metadata": {},
     "output_type": "execute_result"
    }
   ],
   "source": [
    "results"
   ]
  },
  {
   "cell_type": "markdown",
   "metadata": {},
   "source": [
    "#### Round 3: Gini"
   ]
  },
  {
   "cell_type": "code",
   "execution_count": 42,
   "metadata": {},
   "outputs": [],
   "source": [
    "parameters = {\"max_depth\": [3, None],\n",
    "              \"max_features\": [1, 5, 10],\n",
    "              'min_samples_split': [2, 5, 10],\n",
    "              'min_samples_leaf': [1, 5, 10],\n",
    "              \"bootstrap\": [True, False],\n",
    "              \"criterion\": [\"gini\"]}"
   ]
  },
  {
   "cell_type": "code",
   "execution_count": 43,
   "metadata": {},
   "outputs": [
    {
     "name": "stdout",
     "output_type": "stream",
     "text": [
      "Took 1585.36 seconds\n"
     ]
    }
   ],
   "source": [
    "grid_search = GridSearchCV(estimator = classifier, # Make sure classifier points to the RF model\n",
    "                           param_grid = parameters,\n",
    "                           scoring = \"accuracy\",\n",
    "                           cv = 10,\n",
    "                           n_jobs = -1)\n",
    "t0 = time.time()\n",
    "grid_search = grid_search.fit(X_train, y_train)\n",
    "t1 = time.time()\n",
    "print(\"Took %0.2f seconds\" % (t1 - t0))"
   ]
  },
  {
   "cell_type": "code",
   "execution_count": 44,
   "metadata": {},
   "outputs": [
    {
     "data": {
      "text/plain": [
       "(0.6353512282315882,\n",
       " {'bootstrap': True,\n",
       "  'criterion': 'gini',\n",
       "  'max_depth': None,\n",
       "  'max_features': 10,\n",
       "  'min_samples_leaf': 5,\n",
       "  'min_samples_split': 2})"
      ]
     },
     "execution_count": 44,
     "metadata": {},
     "output_type": "execute_result"
    }
   ],
   "source": [
    "rf_best_accuracy = grid_search.best_score_\n",
    "rf_best_parameters = grid_search.best_params_\n",
    "rf_best_accuracy, rf_best_parameters"
   ]
  },
  {
   "cell_type": "markdown",
   "metadata": {},
   "source": [
    "#### Round 4: Gini"
   ]
  },
  {
   "cell_type": "code",
   "execution_count": 45,
   "metadata": {},
   "outputs": [],
   "source": [
    "parameters = {\"max_depth\": [None],\n",
    "              \"max_features\": [8, 10, 12],\n",
    "              'min_samples_split': [2, 3, 4],\n",
    "              'min_samples_leaf': [8, 10, 12],\n",
    "              \"bootstrap\": [True],\n",
    "              \"criterion\": [\"gini\"]}"
   ]
  },
  {
   "cell_type": "code",
   "execution_count": 46,
   "metadata": {},
   "outputs": [
    {
     "name": "stdout",
     "output_type": "stream",
     "text": [
      "Took 774.31 seconds\n"
     ]
    }
   ],
   "source": [
    "grid_search = GridSearchCV(estimator = classifier, # Make sure classifier points to the RF model\n",
    "                           param_grid = parameters,\n",
    "                           scoring = \"accuracy\",\n",
    "                           cv = 10,\n",
    "                           n_jobs = -1)\n",
    "\n",
    "t0 = time.time()\n",
    "grid_search = grid_search.fit(X_train, y_train)\n",
    "t1 = time.time()\n",
    "print(\"Took %0.2f seconds\" % (t1 - t0))"
   ]
  },
  {
   "cell_type": "code",
   "execution_count": 47,
   "metadata": {},
   "outputs": [
    {
     "data": {
      "text/plain": [
       "(0.635420816975755,\n",
       " {'bootstrap': True,\n",
       "  'criterion': 'gini',\n",
       "  'max_depth': None,\n",
       "  'max_features': 10,\n",
       "  'min_samples_leaf': 8,\n",
       "  'min_samples_split': 2})"
      ]
     },
     "execution_count": 47,
     "metadata": {},
     "output_type": "execute_result"
    }
   ],
   "source": [
    "rf_best_accuracy = grid_search.best_score_\n",
    "rf_best_parameters = grid_search.best_params_\n",
    "rf_best_accuracy, rf_best_parameters"
   ]
  },
  {
   "cell_type": "markdown",
   "metadata": {},
   "source": [
    "#### Gini - Predicting Test Set"
   ]
  },
  {
   "cell_type": "code",
   "execution_count": 48,
   "metadata": {},
   "outputs": [],
   "source": [
    "y_pred = grid_search.predict(X_test)\n",
    "acc = accuracy_score(y_test, y_pred)\n",
    "prec = precision_score(y_test, y_pred)\n",
    "rec = recall_score(y_test, y_pred)\n",
    "f1 = f1_score(y_test, y_pred)\n",
    "\n",
    "model_results = pd.DataFrame([['Random Forest (n=100, GSx2 + Gini)', acc, prec, rec, f1]],\n",
    "               columns = ['Model', 'Accuracy', 'Precision', 'Recall', 'F1 Score'])\n",
    "\n",
    "results = results.append(model_results, ignore_index = True)"
   ]
  },
  {
   "cell_type": "code",
   "execution_count": 49,
   "metadata": {},
   "outputs": [
    {
     "data": {
      "text/html": [
       "<div>\n",
       "<style scoped>\n",
       "    .dataframe tbody tr th:only-of-type {\n",
       "        vertical-align: middle;\n",
       "    }\n",
       "\n",
       "    .dataframe tbody tr th {\n",
       "        vertical-align: top;\n",
       "    }\n",
       "\n",
       "    .dataframe thead th {\n",
       "        text-align: right;\n",
       "    }\n",
       "</style>\n",
       "<table border=\"1\" class=\"dataframe\">\n",
       "  <thead>\n",
       "    <tr style=\"text-align: right;\">\n",
       "      <th></th>\n",
       "      <th>Model</th>\n",
       "      <th>Accuracy</th>\n",
       "      <th>Precision</th>\n",
       "      <th>Recall</th>\n",
       "      <th>F1 Score</th>\n",
       "    </tr>\n",
       "  </thead>\n",
       "  <tbody>\n",
       "    <tr>\n",
       "      <th>0</th>\n",
       "      <td>Linear Regression (Lasso)</td>\n",
       "      <td>0.562535</td>\n",
       "      <td>0.576386</td>\n",
       "      <td>0.706432</td>\n",
       "      <td>0.634817</td>\n",
       "    </tr>\n",
       "    <tr>\n",
       "      <th>1</th>\n",
       "      <td>SVM (Linear)</td>\n",
       "      <td>0.568398</td>\n",
       "      <td>0.577769</td>\n",
       "      <td>0.735996</td>\n",
       "      <td>0.647354</td>\n",
       "    </tr>\n",
       "    <tr>\n",
       "      <th>2</th>\n",
       "      <td>SVM (RBF)</td>\n",
       "      <td>0.591569</td>\n",
       "      <td>0.605730</td>\n",
       "      <td>0.690871</td>\n",
       "      <td>0.645505</td>\n",
       "    </tr>\n",
       "    <tr>\n",
       "      <th>3</th>\n",
       "      <td>Random Forest (n=100)</td>\n",
       "      <td>0.621720</td>\n",
       "      <td>0.640098</td>\n",
       "      <td>0.678942</td>\n",
       "      <td>0.658948</td>\n",
       "    </tr>\n",
       "    <tr>\n",
       "      <th>4</th>\n",
       "      <td>Random Forest (n=100, GSx2 + Entropy)</td>\n",
       "      <td>0.625070</td>\n",
       "      <td>0.640828</td>\n",
       "      <td>0.690353</td>\n",
       "      <td>0.664669</td>\n",
       "    </tr>\n",
       "    <tr>\n",
       "      <th>5</th>\n",
       "      <td>Random Forest (n=100, GSx2 + Gini)</td>\n",
       "      <td>0.630932</td>\n",
       "      <td>0.646236</td>\n",
       "      <td>0.694502</td>\n",
       "      <td>0.669500</td>\n",
       "    </tr>\n",
       "  </tbody>\n",
       "</table>\n",
       "</div>"
      ],
      "text/plain": [
       "                                   Model  Accuracy  Precision    Recall  \\\n",
       "0              Linear Regression (Lasso)  0.562535   0.576386  0.706432   \n",
       "1                           SVM (Linear)  0.568398   0.577769  0.735996   \n",
       "2                              SVM (RBF)  0.591569   0.605730  0.690871   \n",
       "3                  Random Forest (n=100)  0.621720   0.640098  0.678942   \n",
       "4  Random Forest (n=100, GSx2 + Entropy)  0.625070   0.640828  0.690353   \n",
       "5     Random Forest (n=100, GSx2 + Gini)  0.630932   0.646236  0.694502   \n",
       "\n",
       "   F1 Score  \n",
       "0  0.634817  \n",
       "1  0.647354  \n",
       "2  0.645505  \n",
       "3  0.658948  \n",
       "4  0.664669  \n",
       "5  0.669500  "
      ]
     },
     "execution_count": 49,
     "metadata": {},
     "output_type": "execute_result"
    }
   ],
   "source": [
    "results"
   ]
  },
  {
   "cell_type": "code",
   "execution_count": 50,
   "metadata": {},
   "outputs": [
    {
     "name": "stdout",
     "output_type": "stream",
     "text": [
      "Test Data Accuracy: 0.6309\n"
     ]
    },
    {
     "data": {
      "image/png": "[encoded data removed]",
      "text/plain": [
       "<Figure size 576x432 with 2 Axes>"
      ]
     },
     "metadata": {
      "needs_background": "light"
     },
     "output_type": "display_data"
    }
   ],
   "source": [
    "## EXTRA: Confusion Matrix\n",
    "cm = confusion_matrix(y_test, y_pred) # rows = truth, cols = prediction\n",
    "df_cm = pd.DataFrame(cm, index = (0, 1), columns = (0, 1))\n",
    "plt.figure(figsize = (8,6))\n",
    "sn.set(font_scale=1.4)\n",
    "sn.heatmap(df_cm, annot=True, fmt='g')\n",
    "print(\"Test Data Accuracy: %0.4f\" % accuracy_score(y_test, y_pred))"
   ]
  },
  {
   "cell_type": "code",
   "execution_count": 51,
   "metadata": {},
   "outputs": [],
   "source": [
    "# Formatting Final Results\n",
    "final_results = pd.concat([y_test, users], axis = 1).dropna()\n",
    "final_results['predictions'] = y_pred\n",
    "final_results = final_results[['entry_id', 'e_signed', 'predictions']]"
   ]
  },
  {
   "cell_type": "code",
   "execution_count": 52,
   "metadata": {
    "scrolled": true
   },
   "outputs": [
    {
     "data": {
      "text/html": [
       "<div>\n",
       "<style scoped>\n",
       "    .dataframe tbody tr th:only-of-type {\n",
       "        vertical-align: middle;\n",
       "    }\n",
       "\n",
       "    .dataframe tbody tr th {\n",
       "        vertical-align: top;\n",
       "    }\n",
       "\n",
       "    .dataframe thead th {\n",
       "        text-align: right;\n",
       "    }\n",
       "</style>\n",
       "<table border=\"1\" class=\"dataframe\">\n",
       "  <thead>\n",
       "    <tr style=\"text-align: right;\">\n",
       "      <th></th>\n",
       "      <th>entry_id</th>\n",
       "      <th>e_signed</th>\n",
       "      <th>predictions</th>\n",
       "    </tr>\n",
       "  </thead>\n",
       "  <tbody>\n",
       "    <tr>\n",
       "      <th>8</th>\n",
       "      <td>6493191</td>\n",
       "      <td>1.0</td>\n",
       "      <td>0</td>\n",
       "    </tr>\n",
       "    <tr>\n",
       "      <th>9</th>\n",
       "      <td>8908605</td>\n",
       "      <td>1.0</td>\n",
       "      <td>0</td>\n",
       "    </tr>\n",
       "    <tr>\n",
       "      <th>12</th>\n",
       "      <td>6889184</td>\n",
       "      <td>1.0</td>\n",
       "      <td>1</td>\n",
       "    </tr>\n",
       "    <tr>\n",
       "      <th>16</th>\n",
       "      <td>9375601</td>\n",
       "      <td>0.0</td>\n",
       "      <td>1</td>\n",
       "    </tr>\n",
       "    <tr>\n",
       "      <th>18</th>\n",
       "      <td>8515555</td>\n",
       "      <td>1.0</td>\n",
       "      <td>1</td>\n",
       "    </tr>\n",
       "    <tr>\n",
       "      <th>31</th>\n",
       "      <td>2881357</td>\n",
       "      <td>0.0</td>\n",
       "      <td>0</td>\n",
       "    </tr>\n",
       "    <tr>\n",
       "      <th>33</th>\n",
       "      <td>7048193</td>\n",
       "      <td>1.0</td>\n",
       "      <td>1</td>\n",
       "    </tr>\n",
       "    <tr>\n",
       "      <th>37</th>\n",
       "      <td>5815308</td>\n",
       "      <td>1.0</td>\n",
       "      <td>1</td>\n",
       "    </tr>\n",
       "    <tr>\n",
       "      <th>44</th>\n",
       "      <td>8700190</td>\n",
       "      <td>1.0</td>\n",
       "      <td>1</td>\n",
       "    </tr>\n",
       "    <tr>\n",
       "      <th>45</th>\n",
       "      <td>8232654</td>\n",
       "      <td>0.0</td>\n",
       "      <td>0</td>\n",
       "    </tr>\n",
       "    <tr>\n",
       "      <th>47</th>\n",
       "      <td>6017637</td>\n",
       "      <td>0.0</td>\n",
       "      <td>1</td>\n",
       "    </tr>\n",
       "    <tr>\n",
       "      <th>48</th>\n",
       "      <td>9071675</td>\n",
       "      <td>0.0</td>\n",
       "      <td>1</td>\n",
       "    </tr>\n",
       "    <tr>\n",
       "      <th>51</th>\n",
       "      <td>2718414</td>\n",
       "      <td>0.0</td>\n",
       "      <td>0</td>\n",
       "    </tr>\n",
       "    <tr>\n",
       "      <th>60</th>\n",
       "      <td>1213384</td>\n",
       "      <td>1.0</td>\n",
       "      <td>1</td>\n",
       "    </tr>\n",
       "    <tr>\n",
       "      <th>65</th>\n",
       "      <td>9217393</td>\n",
       "      <td>0.0</td>\n",
       "      <td>1</td>\n",
       "    </tr>\n",
       "    <tr>\n",
       "      <th>69</th>\n",
       "      <td>1401385</td>\n",
       "      <td>0.0</td>\n",
       "      <td>0</td>\n",
       "    </tr>\n",
       "    <tr>\n",
       "      <th>74</th>\n",
       "      <td>3385813</td>\n",
       "      <td>1.0</td>\n",
       "      <td>1</td>\n",
       "    </tr>\n",
       "    <tr>\n",
       "      <th>88</th>\n",
       "      <td>3337988</td>\n",
       "      <td>1.0</td>\n",
       "      <td>0</td>\n",
       "    </tr>\n",
       "    <tr>\n",
       "      <th>94</th>\n",
       "      <td>5646177</td>\n",
       "      <td>1.0</td>\n",
       "      <td>0</td>\n",
       "    </tr>\n",
       "    <tr>\n",
       "      <th>103</th>\n",
       "      <td>6428253</td>\n",
       "      <td>1.0</td>\n",
       "      <td>0</td>\n",
       "    </tr>\n",
       "    <tr>\n",
       "      <th>119</th>\n",
       "      <td>8739167</td>\n",
       "      <td>0.0</td>\n",
       "      <td>1</td>\n",
       "    </tr>\n",
       "    <tr>\n",
       "      <th>122</th>\n",
       "      <td>9260893</td>\n",
       "      <td>0.0</td>\n",
       "      <td>0</td>\n",
       "    </tr>\n",
       "    <tr>\n",
       "      <th>124</th>\n",
       "      <td>6989789</td>\n",
       "      <td>1.0</td>\n",
       "      <td>1</td>\n",
       "    </tr>\n",
       "    <tr>\n",
       "      <th>127</th>\n",
       "      <td>5032836</td>\n",
       "      <td>0.0</td>\n",
       "      <td>0</td>\n",
       "    </tr>\n",
       "    <tr>\n",
       "      <th>129</th>\n",
       "      <td>5770277</td>\n",
       "      <td>1.0</td>\n",
       "      <td>0</td>\n",
       "    </tr>\n",
       "    <tr>\n",
       "      <th>134</th>\n",
       "      <td>9129594</td>\n",
       "      <td>1.0</td>\n",
       "      <td>0</td>\n",
       "    </tr>\n",
       "    <tr>\n",
       "      <th>142</th>\n",
       "      <td>4488789</td>\n",
       "      <td>1.0</td>\n",
       "      <td>0</td>\n",
       "    </tr>\n",
       "    <tr>\n",
       "      <th>146</th>\n",
       "      <td>3265474</td>\n",
       "      <td>1.0</td>\n",
       "      <td>0</td>\n",
       "    </tr>\n",
       "    <tr>\n",
       "      <th>150</th>\n",
       "      <td>4867078</td>\n",
       "      <td>1.0</td>\n",
       "      <td>1</td>\n",
       "    </tr>\n",
       "    <tr>\n",
       "      <th>154</th>\n",
       "      <td>5700559</td>\n",
       "      <td>1.0</td>\n",
       "      <td>1</td>\n",
       "    </tr>\n",
       "    <tr>\n",
       "      <th>...</th>\n",
       "      <td>...</td>\n",
       "      <td>...</td>\n",
       "      <td>...</td>\n",
       "    </tr>\n",
       "    <tr>\n",
       "      <th>17779</th>\n",
       "      <td>2853843</td>\n",
       "      <td>0.0</td>\n",
       "      <td>1</td>\n",
       "    </tr>\n",
       "    <tr>\n",
       "      <th>17781</th>\n",
       "      <td>9800690</td>\n",
       "      <td>1.0</td>\n",
       "      <td>1</td>\n",
       "    </tr>\n",
       "    <tr>\n",
       "      <th>17796</th>\n",
       "      <td>8721355</td>\n",
       "      <td>0.0</td>\n",
       "      <td>0</td>\n",
       "    </tr>\n",
       "    <tr>\n",
       "      <th>17805</th>\n",
       "      <td>3386085</td>\n",
       "      <td>1.0</td>\n",
       "      <td>1</td>\n",
       "    </tr>\n",
       "    <tr>\n",
       "      <th>17811</th>\n",
       "      <td>6775612</td>\n",
       "      <td>0.0</td>\n",
       "      <td>1</td>\n",
       "    </tr>\n",
       "    <tr>\n",
       "      <th>17813</th>\n",
       "      <td>4985718</td>\n",
       "      <td>1.0</td>\n",
       "      <td>0</td>\n",
       "    </tr>\n",
       "    <tr>\n",
       "      <th>17814</th>\n",
       "      <td>2864796</td>\n",
       "      <td>0.0</td>\n",
       "      <td>0</td>\n",
       "    </tr>\n",
       "    <tr>\n",
       "      <th>17815</th>\n",
       "      <td>5737298</td>\n",
       "      <td>1.0</td>\n",
       "      <td>1</td>\n",
       "    </tr>\n",
       "    <tr>\n",
       "      <th>17820</th>\n",
       "      <td>4274110</td>\n",
       "      <td>1.0</td>\n",
       "      <td>1</td>\n",
       "    </tr>\n",
       "    <tr>\n",
       "      <th>17831</th>\n",
       "      <td>6093659</td>\n",
       "      <td>0.0</td>\n",
       "      <td>1</td>\n",
       "    </tr>\n",
       "    <tr>\n",
       "      <th>17835</th>\n",
       "      <td>7083364</td>\n",
       "      <td>1.0</td>\n",
       "      <td>1</td>\n",
       "    </tr>\n",
       "    <tr>\n",
       "      <th>17846</th>\n",
       "      <td>2040701</td>\n",
       "      <td>0.0</td>\n",
       "      <td>0</td>\n",
       "    </tr>\n",
       "    <tr>\n",
       "      <th>17847</th>\n",
       "      <td>7100904</td>\n",
       "      <td>1.0</td>\n",
       "      <td>1</td>\n",
       "    </tr>\n",
       "    <tr>\n",
       "      <th>17850</th>\n",
       "      <td>5038970</td>\n",
       "      <td>1.0</td>\n",
       "      <td>1</td>\n",
       "    </tr>\n",
       "    <tr>\n",
       "      <th>17854</th>\n",
       "      <td>8092654</td>\n",
       "      <td>1.0</td>\n",
       "      <td>1</td>\n",
       "    </tr>\n",
       "    <tr>\n",
       "      <th>17857</th>\n",
       "      <td>7045673</td>\n",
       "      <td>1.0</td>\n",
       "      <td>1</td>\n",
       "    </tr>\n",
       "    <tr>\n",
       "      <th>17864</th>\n",
       "      <td>7997931</td>\n",
       "      <td>0.0</td>\n",
       "      <td>1</td>\n",
       "    </tr>\n",
       "    <tr>\n",
       "      <th>17865</th>\n",
       "      <td>5946920</td>\n",
       "      <td>0.0</td>\n",
       "      <td>1</td>\n",
       "    </tr>\n",
       "    <tr>\n",
       "      <th>17866</th>\n",
       "      <td>3275691</td>\n",
       "      <td>1.0</td>\n",
       "      <td>0</td>\n",
       "    </tr>\n",
       "    <tr>\n",
       "      <th>17867</th>\n",
       "      <td>8990324</td>\n",
       "      <td>1.0</td>\n",
       "      <td>1</td>\n",
       "    </tr>\n",
       "    <tr>\n",
       "      <th>17871</th>\n",
       "      <td>2247736</td>\n",
       "      <td>1.0</td>\n",
       "      <td>0</td>\n",
       "    </tr>\n",
       "    <tr>\n",
       "      <th>17875</th>\n",
       "      <td>4736767</td>\n",
       "      <td>1.0</td>\n",
       "      <td>0</td>\n",
       "    </tr>\n",
       "    <tr>\n",
       "      <th>17876</th>\n",
       "      <td>3749453</td>\n",
       "      <td>0.0</td>\n",
       "      <td>0</td>\n",
       "    </tr>\n",
       "    <tr>\n",
       "      <th>17877</th>\n",
       "      <td>9192574</td>\n",
       "      <td>0.0</td>\n",
       "      <td>0</td>\n",
       "    </tr>\n",
       "    <tr>\n",
       "      <th>17880</th>\n",
       "      <td>3620673</td>\n",
       "      <td>1.0</td>\n",
       "      <td>0</td>\n",
       "    </tr>\n",
       "    <tr>\n",
       "      <th>17881</th>\n",
       "      <td>5028251</td>\n",
       "      <td>1.0</td>\n",
       "      <td>1</td>\n",
       "    </tr>\n",
       "    <tr>\n",
       "      <th>17888</th>\n",
       "      <td>8958068</td>\n",
       "      <td>0.0</td>\n",
       "      <td>0</td>\n",
       "    </tr>\n",
       "    <tr>\n",
       "      <th>17890</th>\n",
       "      <td>3605941</td>\n",
       "      <td>0.0</td>\n",
       "      <td>1</td>\n",
       "    </tr>\n",
       "    <tr>\n",
       "      <th>17901</th>\n",
       "      <td>1807355</td>\n",
       "      <td>0.0</td>\n",
       "      <td>1</td>\n",
       "    </tr>\n",
       "    <tr>\n",
       "      <th>17907</th>\n",
       "      <td>1498559</td>\n",
       "      <td>1.0</td>\n",
       "      <td>1</td>\n",
       "    </tr>\n",
       "  </tbody>\n",
       "</table>\n",
       "<p>3582 rows × 3 columns</p>\n",
       "</div>"
      ],
      "text/plain": [
       "       entry_id  e_signed  predictions\n",
       "8       6493191       1.0            0\n",
       "9       8908605       1.0            0\n",
       "12      6889184       1.0            1\n",
       "16      9375601       0.0            1\n",
       "18      8515555       1.0            1\n",
       "31      2881357       0.0            0\n",
       "33      7048193       1.0            1\n",
       "37      5815308       1.0            1\n",
       "44      8700190       1.0            1\n",
       "45      8232654       0.0            0\n",
       "47      6017637       0.0            1\n",
       "48      9071675       0.0            1\n",
       "51      2718414       0.0            0\n",
       "60      1213384       1.0            1\n",
       "65      9217393       0.0            1\n",
       "69      1401385       0.0            0\n",
       "74      3385813       1.0            1\n",
       "88      3337988       1.0            0\n",
       "94      5646177       1.0            0\n",
       "103     6428253       1.0            0\n",
       "119     8739167       0.0            1\n",
       "122     9260893       0.0            0\n",
       "124     6989789       1.0            1\n",
       "127     5032836       0.0            0\n",
       "129     5770277       1.0            0\n",
       "134     9129594       1.0            0\n",
       "142     4488789       1.0            0\n",
       "146     3265474       1.0            0\n",
       "150     4867078       1.0            1\n",
       "154     5700559       1.0            1\n",
       "...         ...       ...          ...\n",
       "17779   2853843       0.0            1\n",
       "17781   9800690       1.0            1\n",
       "17796   8721355       0.0            0\n",
       "17805   3386085       1.0            1\n",
       "17811   6775612       0.0            1\n",
       "17813   4985718       1.0            0\n",
       "17814   2864796       0.0            0\n",
       "17815   5737298       1.0            1\n",
       "17820   4274110       1.0            1\n",
       "17831   6093659       0.0            1\n",
       "17835   7083364       1.0            1\n",
       "17846   2040701       0.0            0\n",
       "17847   7100904       1.0            1\n",
       "17850   5038970       1.0            1\n",
       "17854   8092654       1.0            1\n",
       "17857   7045673       1.0            1\n",
       "17864   7997931       0.0            1\n",
       "17865   5946920       0.0            1\n",
       "17866   3275691       1.0            0\n",
       "17867   8990324       1.0            1\n",
       "17871   2247736       1.0            0\n",
       "17875   4736767       1.0            0\n",
       "17876   3749453       0.0            0\n",
       "17877   9192574       0.0            0\n",
       "17880   3620673       1.0            0\n",
       "17881   5028251       1.0            1\n",
       "17888   8958068       0.0            0\n",
       "17890   3605941       0.0            1\n",
       "17901   1807355       0.0            1\n",
       "17907   1498559       1.0            1\n",
       "\n",
       "[3582 rows x 3 columns]"
      ]
     },
     "execution_count": 52,
     "metadata": {},
     "output_type": "execute_result"
    }
   ],
   "source": [
    "final_results"
   ]
  },
  {
   "cell_type": "code",
   "execution_count": null,
   "metadata": {},
   "outputs": [],
   "source": []
  },
  {
   "cell_type": "code",
   "execution_count": null,
   "metadata": {},
   "outputs": [],
   "source": []
  },
  {
   "cell_type": "code",
   "execution_count": null,
   "metadata": {},
   "outputs": [],
   "source": []
  },
  {
   "cell_type": "code",
   "execution_count": null,
   "metadata": {},
   "outputs": [],
   "source": []
  }
 ],
 "metadata": {
  "kernelspec": {
   "display_name": "Python 3",
   "language": "python",
   "name": "python3"
  },
  "language_info": {
   "codemirror_mode": {
    "name": "ipython",
    "version": 3
   },
   "file_extension": ".py",
   "mimetype": "text/x-python",
   "name": "python",
   "nbconvert_exporter": "python",
   "pygments_lexer": "ipython3",
   "version": "3.7.3"
  }
 },
 "nbformat": 4,
 "nbformat_minor": 4
}
